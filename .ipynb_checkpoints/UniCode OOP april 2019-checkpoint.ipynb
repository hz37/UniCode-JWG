{
 "cells": [
  {
   "cell_type": "markdown",
   "metadata": {},
   "source": [
    "<a rel=\"license\" href=\"http://creativecommons.org/licenses/by-nc/4.0/\"><img alt=\"Creative Commons License\" style=\"border-width:0\" src=\"https://i.creativecommons.org/l/by-nc/4.0/88x31.png\" /></a><br />This work is licensed under a <a rel=\"license\" href=\"http://creativecommons.org/licenses/by-nc/4.0/\">Creative Commons Attribution-NonCommercial 4.0 International License</a>."
   ]
  },
  {
   "cell_type": "markdown",
   "metadata": {},
   "source": [
    "## __UniCode__\n",
    "\n",
    "__Hens Zimmerman__\n",
    "\n",
    "[henszimmerman@gmail.com](mailto:henszimmerman@gmail.com)\n",
    "\n",
    "In deze reeks artikelen leer je programmeren met de programmeertaal Python. Python is een gratis open source programmeertaal, die je kunt gebruiken op bijna alle soorten computers. Als je nog maar net begint met programmeren, en geen idee hebt waar je moet beginnen, begin dan met __Anaconda Python__ 3.7 of hoger. De download vind je hier: https://www.anaconda.com/. Natuurlijk gaat onze voorkeur uit naar astronomische berekeningen, maar soms maken we een uitstapje naar iets anders. In deze aflevering gaan we alweer kijken naar Object Oriented Programming (OOP), oftewel object georiënteerd programmeren. Omdat dat nogal een uitgebreid onderwerp is, is dit deel 2 van een serie artikelen over object georiënteerd programmeren.\n",
    "\n",
    "Alle nog volgende afleveringen van onze serie UniCode kun je vanaf nu ook als Jupyter notebook terugvinden op het interweb. Dat betekent dat je niet alles hoeft over te typen én dat je kunt experimenteren met de Python code. Super handig dus. Als je meer over Jupyter wilt weten kun je [hier](https://www.datacamp.com/community/tutorials/tutorial-jupyter-notebook) kijken. \n",
    "\n",
    "__Voer de code in Jupyter notebooks wel in volgorde van boven naar beneden uit, anders bestaat er een kans dat je foutmeldingen krijgt.__ \n",
    "\n",
    "De link naar de [UniCode Jupyter notebooks](http://bit.ly/JWGUniCode) is gemakkelijk te onthouden: [bit.ly/JWGUniCode](http://bit.ly/JWGUniCode). \n",
    "\n",
    "Nog een kleinigheid: als je zelf met Jupyter notebooks bezig wilt, dan is het handig om wat [markdown](https://www.markdownguide.org) te leren. Dat is een handig taaltje, dat je overal op het internet tegenkomt om documenten mee op te maken. Het is eenvoudiger te leren dan HTML, simpelweg omdat het veel minder commando's kent."
   ]
  },
  {
   "cell_type": "markdown",
   "metadata": {},
   "source": [
    "## Wat gaan we behandelen\n",
    "\n",
    "In de vorige aflevering hebben we al gesnuffeld aan object georiënteerd programmeren. Je zag al dat een object een zelfstandig onderdeel van je computerprogramma voorstelt. In Python maak je een object aan door eerst te omschrijven wat de klasse ('class') van je object is. Dat is een blauwdruk van het object. Zo ziet dat eruit:"
   ]
  },
  {
   "cell_type": "code",
   "execution_count": null,
   "metadata": {},
   "outputs": [],
   "source": [
    "class MijnObject:\n",
    "    ..."
   ]
  },
  {
   "cell_type": "markdown",
   "metadata": {},
   "source": [
    "Op de plaats van de drie puntjes komen dan functies en variabelen die voor dat object een rol gaan spelen. Bij object georiënteerd programmeren noemen we die functies ook wel __methods__ en die variabelen ook wel __attributes__. Dat klinkt misschien eenvoudig, maar dit is één van de grotere struikelblokken van object georiënteerd programmeren. Daarom gaan we in deze aflevering dieper in op de rol van die functies en variabelen, zoals ze binnen jouw __class__ functioneren. Ook kijken we naar de __self__ variabele, die binnen Python heel belangrijk is. Dit artikel is ook een voorbereiding op de volgende aflevering, waarin we een soort mini database maken waar je je waarnemingen in kunt opslaan. Dus... deze keer flink veel theorie en de volgende keer een praktische toepassing. Maar experimenteer vooral ook zelf met Python. Dat is de beste manier om te leren programmeren!"
   ]
  },
  {
   "cell_type": "markdown",
   "metadata": {},
   "source": [
    "## Het begin en het eind van een object\n",
    "\n",
    "Heel vaak zul je merken dat je bij de start van een object allerlei zaken wilt regelen. Dan is je object in een voor jou bekende staat gebracht, en kun je er op vertrouwen dat het zich zal gedragen zoals jij wilt. Maar ook aan het einde wil je misschien wat dingen opruimen of opslaan. Zou het niet mooi zijn als je Python class daar al een voorziening voor zou kennen? Binnen object georiënteerd programmeren heet die eerste functie een __constructor__ en die tweede een __destructor__. In allerlei programmeertalen, die object georiënteerd programmeren toestaan, kom je deze functies tegen. Python is daarop geen uitzondering. De Python __class__ __constructor__ heet __\\_\\_init\\_\\___ en de __destructor__ heet __\\_\\_del\\___. Hier is een voorbeeld:"
   ]
  },
  {
   "cell_type": "code",
   "execution_count": 5,
   "metadata": {},
   "outputs": [
    {
     "name": "stdout",
     "output_type": "stream",
     "text": [
      "Een ster is geboren!\n",
      "Een ster is overleden...\n"
     ]
    }
   ],
   "source": [
    "# class Ster beschrijft de blauwdruk van onze Ster.\n",
    "\n",
    "class Ster:\n",
    "    def __init__(self):\n",
    "        print(\"Een ster is geboren!\")\n",
    "        \n",
    "    def __del__(self):\n",
    "        print(\"Een ster is overleden...\")\n",
    "\n",
    "# Maak een ster aan.        \n",
    "\n",
    "Betelgeuse = Ster()\n",
    "\n",
    "# Overtuig de ster dat die strijd met het bestaan\n",
    "# niet meer de moeite waard is.\n",
    "\n",
    "del(Betelgeuse)\n"
   ]
  },
  {
   "cell_type": "markdown",
   "metadata": {},
   "source": [
    "Een kleine opmerking is hier op haar plaats. Python doet namelijk aan iets wat we __garbage collection__ noemen. Anders dan in een programmeertaal als C, ruimt Python achter de schermen de troep voor ons op. Wat betekent dat? Dat betekent dat variabelen die niet meer nodig zijn vanzelf opgeruimd worden en geen geheugen meer in beslag nemen. In het voorbeeld hierboven ruimen we de variabele Betelgeuse zelf actief op met het __del__ commando, maar meestal zul je dat niet zelf hoeven doen. Hier is een voorbeeld waar je ziet dat dat achter de schermen automatisch gebeurt:"
   ]
  },
  {
   "cell_type": "code",
   "execution_count": 8,
   "metadata": {},
   "outputs": [
    {
     "name": "stdout",
     "output_type": "stream",
     "text": [
      "Een ster is geboren!\n",
      "Een ster is overleden...\n",
      "Klaar met die functie\n"
     ]
    }
   ],
   "source": [
    "# class Ster beschrijft de blauwdruk van onze Ster.\n",
    "\n",
    "class Ster:\n",
    "    def __init__(self):\n",
    "        print(\"Een ster is geboren!\")\n",
    "        \n",
    "    def __del__(self):\n",
    "        print(\"Een ster is overleden...\")\n",
    "        \n",
    "        \n",
    "def ZomaarEenFunctie():\n",
    "    \"\"\"Deze functie hoort niet bij class Ster!\"\"\"\n",
    "    x = Ster()\n",
    "\n",
    "# Roep onze functie aan.\n",
    "\n",
    "ZomaarEenFunctie()\n",
    "print(\"Klaar met die functie\")\n"
   ]
  },
  {
   "cell_type": "markdown",
   "metadata": {},
   "source": [
    "Hey... wat gebeurt hier? We roepen onze functie __ZomaarEenFunctie__ aan. Binnen deze functie wordt een ster aangemaakt. Maar zodra die functie afgelopen is, dan is die Ster variabele x helemaal niet meer nodig. We zeggen ook wel dat de __scope__ van de variabele x hierboven de functie __ZomaarEenFunctie__ is. Daarbuiten heeft x geen betekenis meer. Sterker nog, je kunt in een programma verschillende \"scopes\" hebben die elkaar helemaal niet voor de voeten lopen. Kijk maar:"
   ]
  },
  {
   "cell_type": "code",
   "execution_count": 10,
   "metadata": {},
   "outputs": [
    {
     "name": "stdout",
     "output_type": "stream",
     "text": [
      "Een ster is geboren!\n",
      "Een ster is overleden...\n",
      "Klaar met die functie\n",
      "x is nog steeds: 1234\n"
     ]
    }
   ],
   "source": [
    "# class Ster beschrijft de blauwdruk van onze Ster.\n",
    "\n",
    "class Ster:\n",
    "    def __init__(self):\n",
    "        print(\"Een ster is geboren!\")\n",
    "        \n",
    "    def __del__(self):\n",
    "        print(\"Een ster is overleden...\")\n",
    "        \n",
    "        \n",
    "def ZomaarEenFunctie():\n",
    "    \"\"\"Deze functie hoort niet bij class Ster!\"\"\"\n",
    "    x = Ster()\n",
    "\n",
    "# Roep onze functie aan.\n",
    "\n",
    "x = 1234\n",
    "ZomaarEenFunctie()\n",
    "print(\"Klaar met die functie\")\n",
    "print(\"x is nog steeds: {0}\".format(x))\n"
   ]
  },
  {
   "cell_type": "markdown",
   "metadata": {},
   "source": [
    "Die eerste x wordt 1234 en staat helemaal los van de x binnen __ZomaarEenFunctie__. Het is natuurlijk wel aan te raden om duidelijke namen voor je variabelen te gebruiken. x zegt op zich niet zoveel, tenzij je toevallig met iets bezig bent dat bijvoorbeeld een x en een y coördinaat heeft.\n",
    "\n",
    "Wat heeft dit met object georiënteerd programmeren te maken? Alles! Een object (zoals Betelgeuse hierboven) heeft haar eigen __scope__, waarbinnen variabelen hun eigen waarde hebben. Om dat te laten zien gaan we verschillende sterren maken, en die krijgen allemaal hun eigen naam. En ik beloof dat we daarna die __self__ variabele gaan uitleggen."
   ]
  },
  {
   "cell_type": "code",
   "execution_count": 4,
   "metadata": {},
   "outputs": [
    {
     "name": "stdout",
     "output_type": "stream",
     "text": [
      "De ster Albireo is geboren!\n",
      "De ster Betelgeuse is geboren!\n",
      "De ster Rigel is geboren!\n",
      "Mijn naam is Albireo\n"
     ]
    }
   ],
   "source": [
    "# class Ster beschrijft de blauwdruk van onze Ster.\n",
    "\n",
    "class Ster:\n",
    "    def __init__(self, naam):\n",
    "        self.naam = naam\n",
    "        print(\"De ster {0} is geboren!\".format(self.naam))\n",
    "        \n",
    "    def Overzicht(self):\n",
    "        print(\"Mijn naam is {0}\".format(self.naam))\n",
    "        \n",
    "albireo = Ster('Albireo')\n",
    "betelgeuse = Ster('Betelgeuse')\n",
    "rigel = Ster('Rigel')\n",
    "\n",
    "albireo.Overzicht()\n"
   ]
  },
  {
   "cell_type": "markdown",
   "metadata": {},
   "source": [
    "Je ziet hier duidelijk dat elke ster een eigen __naam__ variabele heeft. Op die manier kunnen allerlei objecten van dezelfde __class__ toch hun eigen variabelen hebben. Anders zou je er ook niet veel aan hebben. Die variabelen kunnen ook toegewezen worden aan een nieuw object, om bijvoorbeeld te zeggen dat twee objecten gewoon hetzelfde zijn:"
   ]
  },
  {
   "cell_type": "code",
   "execution_count": 6,
   "metadata": {},
   "outputs": [
    {
     "name": "stdout",
     "output_type": "stream",
     "text": [
      "De ster Sirius is geboren!\n",
      "De ster Vreemd helder knipperend UFO ding is geboren!\n",
      "Mijn naam is Sirius\n"
     ]
    }
   ],
   "source": [
    "# class Ster beschrijft de blauwdruk van onze Ster.\n",
    "\n",
    "class Ster:\n",
    "    def __init__(self, naam):\n",
    "        self.naam = naam\n",
    "        print(\"De ster {0} is geboren!\".format(self.naam))\n",
    "        \n",
    "    def Overzicht(self):\n",
    "        print(\"Mijn naam is {0}\".format(self.naam))\n",
    "        \n",
    "Sirius = Ster('Sirius')\n",
    "HuhWatIsDat = Ster('Vreemd helder knipperend UFO ding')\n",
    "\n",
    "# Maar dan kom je er achter dat het gewoon Sirius is\n",
    "\n",
    "HuhWatIsDat = Sirius\n",
    "HuhWatIsDat.Overzicht()\n",
    "\n"
   ]
  },
  {
   "cell_type": "markdown",
   "metadata": {},
   "source": [
    "In Python mag je ook rechtstreeks naar object variabelen schrijven of ze rechtstreeks uitlezen, maar dat gaat een beetje voorbij aan het opgeruimde karakter van object georiënteerd programmeren. In het volgende voorbeeld veranderen we de naam van een ster op twee manieren:"
   ]
  },
  {
   "cell_type": "code",
   "execution_count": 9,
   "metadata": {},
   "outputs": [
    {
     "name": "stdout",
     "output_type": "stream",
     "text": [
      "De ster Sirius is geboren!\n",
      "Sirius\n",
      "Mijn naam is Capella\n",
      "Mijn naam is Wega\n"
     ]
    }
   ],
   "source": [
    "# class Ster beschrijft de blauwdruk van onze Ster.\n",
    "\n",
    "class Ster:\n",
    "    def __init__(self, naam):\n",
    "        self.naam = naam\n",
    "        print(\"De ster {0} is geboren!\".format(self.naam))\n",
    "        \n",
    "    def Overzicht(self):\n",
    "        print(\"Mijn naam is {0}\".format(self.naam))\n",
    "\n",
    "    def GeefNieuweNaam(self, naam):\n",
    "        self.naam = naam\n",
    "        \n",
    "iets = Ster(\"Sirius\")\n",
    "\n",
    "# Dit werkt gewoon:\n",
    "\n",
    "print(iets.naam)\n",
    "\n",
    "# Dit ook:\n",
    "\n",
    "iets.naam = \"Capella\"\n",
    "\n",
    "# Kijk maar:\n",
    "\n",
    "iets.Overzicht()\n",
    "\n",
    "# Maar dit geeft duidelijker je intentie weer:\n",
    "\n",
    "iets.GeefNieuweNaam(\"Wega\")\n",
    "\n",
    "iets.Overzicht()\n"
   ]
  },
  {
   "cell_type": "markdown",
   "metadata": {},
   "source": [
    "## self\n",
    "\n",
    "Hoe zit het met die __self__ variabele? Binnen Python gebruik je die om objecten naar... ja, je raadt het al... zich _zelf_ te laten wijzen. En het mooie is, dat gebeurt helemaal automatisch. Alleen bij het maken van je class functies is de eerste variabele altijd __self__. Intern gebruikt Python de __self__ variabele om Sirius van Betelgeuse te kunnen onderscheiden. Overigens is het niet verplicht deze variabele __self__ te noemen, maar het is een goede gewoonte. Zeker als je in de toekomst met anderen wilt kunnen samenwerken is het verstandig goede gewoontes aan te leren. Misschien is dat wel de grootste uitdaging van een mensenleven, om de balans te vinden tussen eigenzinnigheid en aansluiting vinden.\n",
    "\n",
    "## class variabelen\n",
    "\n",
    "Soms zal het handig blijken wanneer alle variabelen van een bepaalde __class__ het, naast hun individuele unieke variabelen, toch ook over hetzelfde kunnen hebben. En dan blijkt dat een __class__ zelf ook variabelen kan hebben. Je kunt je bijvoorbeeld voorstellen dat alle sterren in onze voorbeelden helium bevatten. Zo ziet dat er dan uit in Python:\n"
   ]
  },
  {
   "cell_type": "code",
   "execution_count": 17,
   "metadata": {},
   "outputs": [
    {
     "name": "stdout",
     "output_type": "stream",
     "text": [
      "Naam: Sirius\n",
      "Bevat helium\n",
      "Naam: Deneb\n",
      "Bevat helium\n"
     ]
    }
   ],
   "source": [
    "class Ster:\n",
    "    # Hier definiëer je je class variabelen.\n",
    "    # Dus buiten alle functies om, maar in de scope\n",
    "    # van je class.\n",
    "    \n",
    "    bevat_helium = True\n",
    "\n",
    "    def __init__(self, naam):\n",
    "        self.naam = naam\n",
    "\n",
    "    def overzicht(self):\n",
    "        print(\"Naam: {0}\".format(self.naam))\n",
    "\n",
    "        if Ster.bevat_helium:\n",
    "            print(\"Bevat helium\")\n",
    "        else:\n",
    "            print(\"Bevat geen helium\")\n",
    "\n",
    "sirius = Ster('Sirius')\n",
    "deneb = Ster('Deneb')\n",
    "\n",
    "sirius.overzicht()\n",
    "deneb.overzicht()"
   ]
  },
  {
   "cell_type": "markdown",
   "metadata": {},
   "source": [
    "De class variabelen definiëer je direct onder je __class__ omschrijving. Dus in de scope van je class, maar buiten de scope van je class functies.\n",
    "\n",
    "Maar dan komt het moment dat je bezig bent met rare sterren die geen helium bevatten. Je kunt dan in één keer de denkbeeldige schakelaar omzetten voor je __class__ en verklaren dat je sterren geen helium bevatten:"
   ]
  },
  {
   "cell_type": "code",
   "execution_count": 19,
   "metadata": {},
   "outputs": [
    {
     "name": "stdout",
     "output_type": "stream",
     "text": [
      "Naam: RX J185635-3754 \n",
      "Bevat geen helium\n",
      "Naam: PSR B1919+21\n",
      "Bevat geen helium\n"
     ]
    }
   ],
   "source": [
    "class Ster:    \n",
    "    bevat_helium = True\n",
    "\n",
    "    def __init__(self, naam):\n",
    "        self.naam = naam\n",
    "\n",
    "    def overzicht(self):\n",
    "        print(\"Naam: {0}\".format(self.naam))\n",
    "        \n",
    "        if Ster.bevat_helium:\n",
    "            print(\"Bevat helium\")\n",
    "        else:\n",
    "            print(\"Bevat geen helium\")\n",
    "\n",
    "neutronen_ster1 = Ster('RX J185635-3754 ')\n",
    "neutronen_ster2 = Ster('PSR B1919+21')\n",
    "\n",
    "Ster.bevat_helium = False\n",
    "\n",
    "neutronen_ster1.overzicht()\n",
    "neutronen_ster2.overzicht()"
   ]
  },
  {
   "cell_type": "markdown",
   "metadata": {},
   "source": [
    "## Meer self\n",
    "\n",
    "Nee geen #selfie! __self__ ! Tot nu toe hebben we __self__ steeds gebruikt om aan te geven dat we class variabelen bedoelden. Maar soms wil je ook een class functie aanroepen binnen je class, en ook dan gebruik je __self__. Dat zie je hieronder in de functie __reset_magnitude__, die zelf de functie __set_magnitude__ weer aanroept.\n",
    "\n",
    "En soms wil je misschien ook checken of een variabele al bestaat. Want zoals je vast wel weet, worden variabelen in Python pas aangemaakt als je ze gebruikt. En zo kan het dus voorkomen dat een variabele nog niet bestaat. Het is meestal beter om variabelen een beginwaarde te geven, maar als je het echt nodig hebt is er een functie __hasattr__ die je vertelt of een variabele bestaat. De class variabele waar je in geïnteresseerd bent is de tweede parameter, en die geef je als tekst (als string) tussen aanhalingstekens. De eerste parameter van __hasattr__ is - uiteraard - __self__."
   ]
  },
  {
   "cell_type": "code",
   "execution_count": 26,
   "metadata": {},
   "outputs": [
    {
     "name": "stdout",
     "output_type": "stream",
     "text": [
      "Naam: Albireo\n",
      "Naam: Albireo\n",
      "Magnitude: 0\n",
      "Naam: Albireo\n",
      "Magnitude: 3.3\n"
     ]
    }
   ],
   "source": [
    "class Ster:\n",
    "    def __init__(self, naam):\n",
    "        self.naam = naam\n",
    "\n",
    "    def overzicht(self):\n",
    "        print(\"Naam: {0}\".format(self.naam))\n",
    "\n",
    "        if hasattr(self, 'magnitude'):\n",
    "            print(\"Magnitude: {0}\".format(self.magnitude))\n",
    "\n",
    "    def set_magnitude(self, magnitude):\n",
    "        self.magnitude = magnitude\n",
    "    \n",
    "    def reset_magnitude(self):\n",
    "        # Deze functie roept via self de class functie\n",
    "        # set_magnitude aan.\n",
    "        self.set_magnitude(0)\n",
    "\n",
    "albireo = Ster('Albireo')\n",
    "albireo.overzicht()\n",
    "\n",
    "albireo.reset_magnitude()\n",
    "albireo.overzicht()\n",
    "\n",
    "# Maar zo helder is Albireo niet!\n",
    "\n",
    "albireo.set_magnitude(3.3)\n",
    "albireo.overzicht()\n"
   ]
  },
  {
   "cell_type": "markdown",
   "metadata": {},
   "source": [
    "## En dan nog wat losse handigheden die we ook af en toe nodig hebben\n",
    "\n",
    "Zoals beloofd gaan we in de volgende aflevering van JWG UniCode een soort mini waarneming database maken. Daarvoor en voor je Python programmeerplezier nu nog een paar losse zaken die je naar hartelust kunt toepassen in je eigen programma's.\n",
    "\n",
    "## pass\n",
    "\n",
    "Vaak heb je tijdens programmeren behoefte aan een stukje code dat helemaal niets doet. Waarom? Omdat Python anders meldt dat je programma niet klopt! Bijvoorbeeld als je een class definitie maakt maar nog geen idee hebt wat 'ie gaat doen. Dit werkt niet:"
   ]
  },
  {
   "cell_type": "code",
   "execution_count": 27,
   "metadata": {},
   "outputs": [
    {
     "ename": "IndentationError",
     "evalue": "expected an indented block (<ipython-input-27-35a1dcc257b6>, line 3)",
     "output_type": "error",
     "traceback": [
      "\u001b[1;36m  File \u001b[1;32m\"<ipython-input-27-35a1dcc257b6>\"\u001b[1;36m, line \u001b[1;32m3\u001b[0m\n\u001b[1;33m    x = GeenIdee()\u001b[0m\n\u001b[1;37m    ^\u001b[0m\n\u001b[1;31mIndentationError\u001b[0m\u001b[1;31m:\u001b[0m expected an indented block\n"
     ]
    }
   ],
   "source": [
    "class GeenIdee:\n",
    "    \n",
    "x = GeenIdee()\n",
    "\n",
    "# IndentationError: expected an indented block"
   ]
  },
  {
   "cell_type": "raw",
   "metadata": {},
   "source": [
    "Maar dit werkt wel!"
   ]
  },
  {
   "cell_type": "code",
   "execution_count": 28,
   "metadata": {},
   "outputs": [],
   "source": [
    "class GeenIdee:\n",
    "    pass\n",
    "    \n",
    "x = GeenIdee()\n",
    "\n",
    "# Doet niks, maar in ieder geval geen foutmelding"
   ]
  },
  {
   "cell_type": "markdown",
   "metadata": {},
   "source": [
    "Ook superhandig bij beslissingsstructuren waar je nog van alles moet invullen:"
   ]
  },
  {
   "cell_type": "code",
   "execution_count": 6,
   "metadata": {},
   "outputs": [
    {
     "name": "stdout",
     "output_type": "stream",
     "text": [
      "Een getal van 0 t/m 3: 5\n",
      "Geen idee wat je bedoelt\n"
     ]
    }
   ],
   "source": [
    "try:\n",
    "    x = int(input(\"Een getal van 0 t/m 3: \"))\n",
    "    \n",
    "    if x == 0:\n",
    "        print(\"0\")\n",
    "    elif x == 1:\n",
    "        pass\n",
    "    elif x == 2:\n",
    "        pass\n",
    "    elif x == 3:\n",
    "        pass\n",
    "    else:\n",
    "        print(\"Geen idee wat je bedoelt\")        \n",
    "except ValueError:\n",
    "    print(\"Geen idee wat je bedoelt\")"
   ]
  },
  {
   "cell_type": "markdown",
   "metadata": {},
   "source": [
    "Als je hierboven het __pass__ commando weglaat, krijg je een foutmelding. Probeer maar eens! Dat __int(input(...))__ gebeuren vraagt je om iets te typen en probeert (__try__) dat te vertalen naar een integer (een nummer). Maar als dat mislukt, treedt er een exception in werking en gaat de code bij __except ValueError__ verder. Je ziet dat we twee keer dezelfde regel \"Geen idee wat je bedoelt\" moeten typen. In plaats daarvan kun je ook zelf een ValueError in het leven roepen met het __raise__ commando. Dit volgende stuk code doet precies hetzelfde. Zoek de verschillen!"
   ]
  },
  {
   "cell_type": "code",
   "execution_count": 7,
   "metadata": {},
   "outputs": [
    {
     "name": "stdout",
     "output_type": "stream",
     "text": [
      "Een getal van 0 t/m 3: 5\n",
      "Geen idee wat je bedoelt\n"
     ]
    }
   ],
   "source": [
    "try:\n",
    "    x = int(input(\"Een getal van 0 t/m 3: \"))\n",
    "    \n",
    "    if x == 0:\n",
    "        print(\"0\")\n",
    "    elif x == 1:\n",
    "        pass\n",
    "    elif x == 2:\n",
    "        pass\n",
    "    elif x == 3:\n",
    "        pass\n",
    "    else:\n",
    "        raise(ValueError)\n",
    "except ValueError:\n",
    "    print(\"Geen idee wat je bedoelt\")"
   ]
  },
  {
   "cell_type": "markdown",
   "metadata": {},
   "source": [
    "Het is meestal een goed idee om te vermijden dat je precies dezelfde code twee keer of vaker moet typen. Want stel dat je je programma moet vertalen naar een andere taal, dan moet je overbodig werk doen! Om dat te vermijden is het verstandig om allerlei tekstregels zoals foutmeldingen bij elkaar te zetten. Dus dit kan ook nog:"
   ]
  },
  {
   "cell_type": "code",
   "execution_count": 8,
   "metadata": {},
   "outputs": [
    {
     "name": "stdout",
     "output_type": "stream",
     "text": [
      "Een getal van 0 t/m 3: ff\n",
      "Geen idee wat je bedoelt\n"
     ]
    }
   ],
   "source": [
    "FouteInputMelding = \"Geen idee wat je bedoelt\"\n",
    "\n",
    "try:\n",
    "    x = int(input(\"Een getal van 0 t/m 3: \"))\n",
    "    \n",
    "    if x == 0:\n",
    "        print(\"0\")\n",
    "    elif x == 1:\n",
    "        pass\n",
    "    elif x == 2:\n",
    "        pass\n",
    "    elif x == 3:\n",
    "        pass\n",
    "    else:\n",
    "        print(FouteInputMelding)        \n",
    "except ValueError:\n",
    "    print(FouteInputMelding)"
   ]
  },
  {
   "cell_type": "markdown",
   "metadata": {},
   "source": [
    "Als je programma's in grootte groeien, kun je ook al je tekstregels in een apart tekstbestand zetten. Experimenteer er maar eens mee. In de volgende aflevering van UniCode gaan we ons programma opdelen in verschillende tekstfiles. Veel programmeerplezier!"
   ]
  },
  {
   "cell_type": "markdown",
   "metadata": {},
   "source": [
    "## Bonus: opslaan in een tekstbestand\n",
    "\n",
    "Soms wil je dat je programma informatie onthoudt. Dat je, met andere woorden, niet steeds weer alles opnieuw hoeft in te voeren. Nou zijn er heel veel manieren om informatie in een bestand op te slaan. Echt, heeeeel veel. Eén manier is om de informatie in een tekstbestand op te slaan. Als laatste experiment in deze UniCode maken we een programma dat je naam onthoudt. Verder niks. In het kader van \"bezint eer ge begint\" schrijven we eerst in comments wat ons programma moet gaan doen:"
   ]
  },
  {
   "cell_type": "code",
   "execution_count": null,
   "metadata": {},
   "outputs": [],
   "source": [
    "# Controleer of er een tekstbestand met je naam bestaat.\n",
    "\n",
    "# Wel een tekstbestand? Lees naam.\n",
    "\n",
    "# Geen tekstbestand? Vraag dan om naam en sla op.\n",
    "\n",
    "# Begroet gebruiker met ingevoerde naam."
   ]
  },
  {
   "cell_type": "markdown",
   "metadata": {},
   "source": [
    "We hebben een paar uitdagingen. \n",
    "\n",
    "1) Waar gaan we dat bestand opslaan? Als je alleen de naam van het bestand gebruikt, wordt het in \"de huidige directory\" opgeslagen. Meestal werkt dat wel, maar het kan zijn dat jouw programma er iets anders mee bedoelt dan jij denkt. En dan verschilt het ook nog van operating system (Linux, Windows, OSX) tot operating system hoe je precies aangeeft waar je bestand komt te staan. De eenvoudige variant, die aangeeft dat het in de huidige directory staat, is als volgt:\n",
    "\n",
    "    naam_bestand = 'naam.txt'\n",
    "\n",
    "Op een Mac met OSX, kun je de \"home\" directory van de huidige gebruiker rechtstreeks benaderen met een tilde:\n",
    "\n",
    "    naam_bestand = '~/naam.txt'\n",
    "\n",
    "Op die manier weet je zeker dat naam.txt in de home directory van de gebruiker wordt gemaakt en gelezen. Dan maakt het niet uit of de gebruiker Alice of Gloria is, want OSX weet dan dat het in het eerste geval dit betekent:\n",
    "\n",
    "    naam_bestand = '/Users/Alice/naam.txt'\n",
    "\n",
    "...en in het tweede geval:\n",
    "\n",
    "    naam_bestand = '/Users/Gloria/naam.txt'\n",
    "\n",
    "Nu kun je je afvragen waarom je dan dan niet gewoon sowieso __/Users/Gloria/naam.txt__ invult, maar dan werkt je programma alleen voor gebruiker Gloria. Om die reden beschikken operating systems over allerlei speciale directories, die je specifiek kunt benaderen. Het gaat een beetje te ver om dat nu helemaal uit te diepen. Als je maar onthoudt dat er nog wat haken en ogen zitten aan zoiets simpels als een bestandsnaam. \n",
    "\n",
    "2) Hoe controleren we of een bestand bestaat of niet? Dat is gelukkig heel eenvoudig en platform onafhankelijk:\n",
    "\n",
    "    import os\n",
    "\n",
    "    if os.path.isfile(hier_komt_de_naam_van_je_bestand):\n",
    "        # Code voor wanneer file bestaat\n",
    "    else:\n",
    "        # Code voor wanneer file niet bestaat\n",
    "\n",
    "3) Hoe lees je de inhoud van een tekstbestand?\n",
    "\n",
    "    file = open(hier_komt_de_naam_van_je_bestand, 'r')\n",
    "    variabele_naam = file.read()\n",
    "    file.close()\n",
    "\n",
    "Eerst open je het bestand. Je geeft de open() functie de naam van het bestand en als tweede parameter zeg je dat je wilt gaan lezen: 'r'. Wat je terugkrijgt is een file object. Daar kun je uit lezen met de read() functie. Als je klaar bent sluit je het bestand weer met de close() functie. Zie je ook dat file in dit korte voorbeeld een object is dat een read() en een close() functie kent?\n",
    "\n",
    "4) Hoe schrijf je naar een tekstbestand?\n",
    "\n",
    "Dat lijkt gelukkig heel erg op het lezen. Alleen zeg je nu met 'w' dat je er naar gaat schrijven. Daarbij gaat de bestaande inhoud verloren. Met de write() functie schrijf je vervolgens naar het bestand.\n",
    "\n",
    "    file = open(hier_komt_de_naam_van_je_bestand, 'w')\n",
    "    file.write(hier_komt_de_tekst_die_je_wilt_schrijven)\n",
    "    file.close()\n",
    "\n",
    "Nu weten we genoeg om onze naam vast te leggen en uit te lezen!"
   ]
  },
  {
   "cell_type": "code",
   "execution_count": 4,
   "metadata": {},
   "outputs": [
    {
     "name": "stdout",
     "output_type": "stream",
     "text": [
      "Hallo Hens Zimmerman!\n"
     ]
    }
   ],
   "source": [
    "import os\n",
    "\n",
    "# Controleer of er een tekstbestand met je naam bestaat.\n",
    "\n",
    "naam_bestand = 'naam.txt'\n",
    "\n",
    "if os.path.isfile(naam_bestand):\n",
    "    # Wel een tekstbestand? Lees naam.\n",
    "    \n",
    "    file = open(naam_bestand, 'r')\n",
    "    naam = file.read()\n",
    "    file.close()\n",
    "else:\n",
    "    # Geen tekstbestand? Vraag dan om naam en sla op.\n",
    "    \n",
    "    naam = input('Je naam graag: ')\n",
    "    \n",
    "    file = open(naam_bestand, 'w')\n",
    "    file.write(naam)\n",
    "    file.close()\n",
    "    \n",
    "# Begroet gebruiker met ingevoerde naam.\n",
    "\n",
    "print(\"Hallo {0}!\".format(naam))\n"
   ]
  },
  {
   "cell_type": "code",
   "execution_count": null,
   "metadata": {},
   "outputs": [],
   "source": []
  }
 ],
 "metadata": {
  "kernelspec": {
   "display_name": "Python 3",
   "language": "python",
   "name": "python3"
  },
  "language_info": {
   "codemirror_mode": {
    "name": "ipython",
    "version": 3
   },
   "file_extension": ".py",
   "mimetype": "text/x-python",
   "name": "python",
   "nbconvert_exporter": "python",
   "pygments_lexer": "ipython3",
   "version": "3.7.1"
  }
 },
 "nbformat": 4,
 "nbformat_minor": 2
}
