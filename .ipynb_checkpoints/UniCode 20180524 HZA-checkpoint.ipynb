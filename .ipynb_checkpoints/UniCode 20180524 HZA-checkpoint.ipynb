{
 "cells": [
  {
   "cell_type": "markdown",
   "metadata": {},
   "source": [
    "\n",
    "\n",
    "<a rel=\"license\" href=\"http://creativecommons.org/licenses/by-nc/4.0/\"><img alt=\"Creative Commons License\" style=\"border-width:0\" src=\"https://i.creativecommons.org/l/by-nc/4.0/88x31.png\" /></a><br />This work is licensed under a <a rel=\"license\" href=\"http://creativecommons.org/licenses/by-nc/4.0/\">Creative Commons Attribution-NonCommercial 4.0 International License</a>."
   ]
  },
  {
   "cell_type": "markdown",
   "metadata": {},
   "source": [
    "## __UniCode__\n",
    "\n",
    "__Hens Zimmerman__\n",
    "\n",
    "[henszimmerman@gmail.com](mailto:henszimmerman@gmail.com)\n",
    "\n",
    "In deze reeks artikelen leer je programmeren met de programmeertaal Python. Python is een gratis open source programmeertaal, die je kunt gebruiken op bijna alle soorten computers. Als je nog maar net begint met programmeren, en geen idee hebt waar je moet beginnen, begin dan met Anaconda Python 3.6. De download vind je hier: https://www.anaconda.com/. Natuurlijk gaat onze voorkeur uit naar astronomische berekeningen, maar soms maken we een uitstapje naar iets anders. Zo gaan we in deze aflevering bezig met datum en tijd.\n",
    "        \n",
    "Nog iets bijzonders: dit is een Jupyter notebook. Dat betekent dat je niet alles hoeft over te typen én dat je kunt experimenteren met de Python code. Super handig dus. Als je meer over Jupyter wilt weten kun je [hier](https://www.datacamp.com/community/tutorials/tutorial-jupyter-notebook) kijken. __Voer de code wel in volgorde uit, anders bestaat er een kans dat je foutmeldingen krijgt.__\n",
    "\n",
    "De link naar de [UniCode Jupyter notebooks](http://bit.ly/JWGUniCode) is gemakkelijk te onthouden: [bit.ly/JWGUniCode](http://bit.ly/JWGUniCode).\n",
    "\n",
    "Nog een kleinigheid: als je zelf met Jupyter notebooks bezig wilt, dan is het handig om wat [markdown](https://www.markdownguide.org) te leren. Dat is een handig taaltje, dat je overal op het internet tegenkomt om documenten mee op te maken.\n"
   ]
  },
  {
   "cell_type": "markdown",
   "metadata": {},
   "source": [
    "## Datum en Tijd\n",
    "\n",
    "Heel vaak tijdens het programmeren hebben we te maken met datum en tijd. Zeker in de sterrenkunde, waar veel interessante gebeurtenissen precies op een bepaald moment plaatsvinden. \n",
    "\n",
    "__NB:__ Als je dit als Jupyter notebook uitvoert, zie je misschien niet de juiste tijd. Dat heeft er mee te maken dat de Jupyter notebooks worden uitgevoerd op de servers van MyBinder en niet op jouw computer thuis."
   ]
  },
  {
   "cell_type": "code",
   "execution_count": 4,
   "metadata": {},
   "outputs": [
    {
     "name": "stdout",
     "output_type": "stream",
     "text": [
      "time.struct_time(tm_year=2018, tm_mon=6, tm_mday=14, tm_hour=13, tm_min=26, tm_sec=21, tm_wday=3, tm_yday=165, tm_isdst=1)\n"
     ]
    }
   ],
   "source": [
    "# Python heeft een module time, die we goed kunnen gebruiken voor datum-tijd-berekeningen.\n",
    "\n",
    "import time \n",
    "\n",
    "# De functie localtime() geeft ons een tuple terug, maar dat leest niet zo prettig.\n",
    "\n",
    "print(time.localtime())"
   ]
  },
  {
   "cell_type": "code",
   "execution_count": 5,
   "metadata": {},
   "outputs": [
    {
     "name": "stdout",
     "output_type": "stream",
     "text": [
      "Thu Jun 14 13:26:24 2018\n"
     ]
    }
   ],
   "source": [
    "# Met de functie asctime() hebben we snel een leesbare datum en tijd.\n",
    "\n",
    "print(time.asctime())"
   ]
  },
  {
   "cell_type": "code",
   "execution_count": 3,
   "metadata": {},
   "outputs": [
    {
     "name": "stdout",
     "output_type": "stream",
     "text": [
      "Het is 13:21 uur op 14 June 2018.\n",
      "Exacte tijd: 13:21:04\n",
      "13:21:04 06/14/18\n",
      "It's Thursday Jun 14, 2018 - 01:21 PM\n"
     ]
    }
   ],
   "source": [
    "# Maar met strftime() hebben we totale controle over hoe we de datum en tijd weergeven.\n",
    "# Wat je allemaal kunt weergeven vind je hier: https://docs.python.org/2/library/time.html#time.strftime\n",
    "# Een paar voorbeelden:\n",
    "\n",
    "nu = time.localtime()\n",
    "\n",
    "print(time.strftime(\"Het is %H:%M uur op %d %B %Y.\", nu))\n",
    "\n",
    "print(time.strftime(\"Exacte tijd: %H:%M:%S\", nu))\n",
    "\n",
    "print(time.strftime(\"%X %x\", nu))\n",
    "\n",
    "print(time.strftime(\"It's %A %b %d, %Y - %I:%M %p\", nu))"
   ]
  },
  {
   "cell_type": "code",
   "execution_count": null,
   "metadata": {
    "collapsed": true
   },
   "outputs": [],
   "source": [
    "# Een kalender is ook geen probleem in Python!\n",
    "\n",
    "import calendar\n",
    "\n",
    "goedeInput = False\n",
    "\n",
    "while not goedeInput:\n",
    "  jaar = input(\"In welk jaar ben je geboren? \")\n",
    "  maand = input(\"En in welke maand ben je geboren? \")\n",
    "\n",
    "  try:\n",
    "    jaar =  int(jaar)\n",
    "    maand = int(maand)\n",
    "    \n",
    "    # Hier komen we pas aan als jaar en maand getallen zijn!\n",
    "    goedeInput = (maand >= 1) & (maand <= 12)\n",
    "  except ValueError:\n",
    "    print(\"Grappenmaker!\")\n",
    "\n",
    "print(\"Hier is een kalender van je geboortemaand:\\n\")\n",
    "\n",
    "cal = calendar.month(jaar, maand)\n",
    "print(cal)\n"
   ]
  },
  {
   "cell_type": "markdown",
   "metadata": {},
   "source": [
    "## Even een tip tussendoor\n",
    "\n",
    "Als je plezier hebt in het programmeren in Python en sneller wilt leren, dan zijn er op internet allerlei plaatsen te vinden waar je zelf aan de slag kunt. Ter inspiratie zijn hier een paar van de betere sites:\n",
    "\n",
    "- [HackerRank](https://www.hackerrank.com/)\n",
    "\n",
    "Op deze site kun je allemaal kleine oefeningen doen, waardoor je punten verzamelt en steeds beter wordt. Het kost helemaal niks, en je kunt er op den duur zelfs betaald werk mee vinden!\n",
    "\n",
    "- [Project Euler](https://projecteuler.net)\n",
    "\n",
    "Deze website is een lange reeks van steeds moeilijker wordende wiskunde- en programmeeruitdagingen. Kost weer helemaal geen cent en je wordt al doende beter en beter.\n",
    "\n",
    "- [NAND to Tetris](http://www.nand2tetris.org)\n",
    "\n",
    "Dit is geen Python website, maar wel een heel goede manier om te leren hoe computers werken. De website is ook gratis, en je leer eerst NAND geheugen te bouwen, en daarmee bouw je een steeds beter functionerende virtuele computer.\n",
    "\n",
    "- [Coder Byte](https://coderbyte.com)\n",
    "\n",
    "Deze website heeft ook een betaald gedeelte, maar je kunt gratis Python leren en uitdagingen accepteren.\n",
    "\n",
    "- [Practice Python](https://www.practicepython.org)\n",
    "\n",
    "Okay, misschien niet de meest gelikte website, maar je vindt er uitdagingen én oplossingen.\n",
    "\n",
    "- [Code Wars](http://www.codewars.com)\n",
    "\n",
    "Hele mooie site, waar je ook kunt betalen voor nog meer mogelijkheden. Maar genoeg te doen zonder dat je je portemonnee hoeft te trekken!\n",
    "\n",
    "- [W3 Resource](https://www.w3resource.com/python-exercises/)\n",
    "\n",
    "Tot slot deze site, waar je gratis Python problemen kunt oplossen en ook oplossingen kunt inzien.\n"
   ]
  },
  {
   "cell_type": "code",
   "execution_count": null,
   "metadata": {
    "collapsed": true
   },
   "outputs": [],
   "source": []
  }
 ],
 "metadata": {
  "celltoolbar": "Edit Metadata",
  "kernelspec": {
   "display_name": "Python 3",
   "language": "python",
   "name": "python3"
  },
  "language_info": {
   "codemirror_mode": {
    "name": "ipython",
    "version": 3
   },
   "file_extension": ".py",
   "mimetype": "text/x-python",
   "name": "python",
   "nbconvert_exporter": "python",
   "pygments_lexer": "ipython3",
   "version": "3.6.1"
  }
 },
 "nbformat": 4,
 "nbformat_minor": 2
}
