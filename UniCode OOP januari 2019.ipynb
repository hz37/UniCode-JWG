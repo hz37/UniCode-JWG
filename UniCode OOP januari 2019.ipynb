{
 "cells": [
  {
   "cell_type": "markdown",
   "metadata": {},
   "source": [
    "<a rel=\"license\" href=\"http://creativecommons.org/licenses/by-nc/4.0/\"><img alt=\"Creative Commons License\" style=\"border-width:0\" src=\"https://i.creativecommons.org/l/by-nc/4.0/88x31.png\" /></a><br />This work is licensed under a <a rel=\"license\" href=\"http://creativecommons.org/licenses/by-nc/4.0/\">Creative Commons Attribution-NonCommercial 4.0 International License</a>."
   ]
  },
  {
   "cell_type": "markdown",
   "metadata": {
    "collapsed": true
   },
   "source": [
    "## __UniCode__\n",
    "\n",
    "__Hens Zimmerman__\n",
    "\n",
    "[henszimmerman@gmail.com](mailto:henszimmerman@gmail.com)\n",
    "\n",
    "In deze reeks artikelen leer je programmeren met de programmeertaal Python. Python is een gratis open source programmeertaal, die je kunt gebruiken op bijna alle soorten computers. Als je nog maar net begint met programmeren, en geen idee hebt waar je moet beginnen, begin dan met __Anaconda Python__ 3.7 of hoger. De download vind je hier: https://www.anaconda.com/. Natuurlijk gaat onze voorkeur uit naar astronomische berekeningen, maar soms maken we een uitstapje naar iets anders. In deze aflevering gaan we kijken naar __O__bject __O__riented __P__rogramming (OOP), oftewel object georiënteerd programmeren. Omdat dat nogal een uitgebreid onderwerp is, is dit deel 1 van een serie artikelen over object georiënteerd programmeren.\n",
    "\n",
    "Alle nog volgende afleveringen van onze serie UniCode kun je vanaf nu ook als Jupyter notebook terugvinden op het interweb. Dat betekent dat je niet alles hoeft over te typen én dat je kunt experimenteren met de Python code. Super handig dus. Als je meer over Jupyter wilt weten kun je [hier](https://www.datacamp.com/community/tutorials/tutorial-jupyter-notebook) kijken. \n",
    "\n",
    "__Voer de code in Jupyter notebooks wel in volgorde van boven naar beneden uit, anders bestaat er een kans dat je foutmeldingen krijgt.__ \n",
    "\n",
    "De link naar de [UniCode Jupyter notebooks](http://bit.ly/JWGUniCode) is gemakkelijk te onthouden: [bit.ly/JWGUniCode](http://bit.ly/JWGUniCode). \n",
    "\n",
    "Nog een kleinigheid: als je zelf met Jupyter notebooks bezig wilt, dan is het handig om wat [markdown](https://www.markdownguide.org) te leren. Dat is een handig taaltje, dat je overal op het internet tegenkomt om documenten mee op te maken. Het is eenvoudiger te leren dan HTML, simpelweg omdat het veel minder commando's kent."
   ]
  },
  {
   "cell_type": "markdown",
   "metadata": {},
   "source": [
    "### Object georiënteerd programmeren\n",
    "\n",
    "Object georiënteerd programmeren is een manier van programmeren waarbij je eigenschappen en gedragingen van bepaalde dingen bundelt in objecten. En vervolgens bouw je een computerprogramma dat de communicatie tussen die verschillende objecten regelt.\n",
    "\n",
    "Wat is de reden om dat te doen?\n",
    "\n",
    "De hoofdreden om object georiënteerd te programmeren is om jezelf, de mensen met wie je samenwerkt en uiteindelijk ook de gebruikers van je programma te beschermen. Want als programma's groter en dus meestal ook ingewikkelder worden, wordt het ook steeds lastiger om het overzicht te houden. Een eenvoudig voorbeeld om dit te illustreren.\n",
    "\n",
    "Stel dat jij en je twee zussen een Python programma gaan maken om een berichtje te sturen als jullie kat voor de deur staat. Boven de deur hangt een camera. Jullie gaan de rollen verdelen. Jij wil graag het grote overzicht houden en het programma vormgeven. Je ene zus stort zich op het probleem van de kat, je andere zus wil wel uitzoeken hoe je die camera kunt bedienen.\n",
    "\n",
    "Jullie gaan met z'n drietjes achter jouw computer zitten en typen samen aan één Python document waarin de volgende functie staat:"
   ]
  },
  {
   "cell_type": "code",
   "execution_count": 1,
   "metadata": {
    "collapsed": true
   },
   "outputs": [],
   "source": [
    "def PakPlaatjeVanCameraIsHetOnzeKatStuurDanEmailAanMama():\n",
    "    # Hier typt je ene zus een enorm verhaal\n",
    "    # waarmee de laatste foto van de camera\n",
    "    # binnen wordt gehaald.\n",
    "    \n",
    "    # 100 regels later...\n",
    "    \n",
    "    foto # Hierin zit de laatste foto\n",
    "    \n",
    "    # Hier gaat je andere zus tekeer en\n",
    "    # 1000 regels later...\n",
    "    \n",
    "    JaHetIsOnzeKat = True\n",
    "    \n",
    "    # Nou ga je een mail sturen aan jullie moeder.\n",
    "    # Dat is jouw klus, en kost je ook weer 50\n",
    "    # regels programmacode.\n",
    "    \n",
    "    if JaHetIsOnzeKat:\n",
    "        # Stuur nu mail aan mama.\n",
    "        pass\n",
    "    "
   ]
  },
  {
   "cell_type": "markdown",
   "metadata": {},
   "source": [
    "Alhoewel dat uiteindelijk misschien best gaat lukken, is het niet handig om samen aan één document te werken. Jullie ene functie wordt honderden regels groot, wat niet echt overzichtelijk is. Stel dat je zus een betrouwbaardere methode verzint om te ontdekken of het wel of niet jullie kat is, dan moet ze middenin die functie dingen gaan veranderen.\n",
    "\n",
    "Maar wat nou als die zus na veel uitproberen en nadenken besluit dat ze niet met 100% zekerheid zegt of het wel of niet jullie kat is, maar dat haar code eindigt met:"
   ]
  },
  {
   "cell_type": "code",
   "execution_count": null,
   "metadata": {
    "collapsed": true
   },
   "outputs": [],
   "source": [
    "# WaarschijnlijkheidDatHetOnzeKatIs heeft een waarde tussen de 0 en 100 %.\n",
    "\n",
    "WaarschijnlijkheidDatHetOnzeKatIs = 90\n"
   ]
  },
  {
   "cell_type": "markdown",
   "metadata": {},
   "source": [
    "Opeens \"breekt\" jouw code, want je rekende erop dat je zus zou eindigen met __JaHetIsOnzeKat__, __wel__ of __niet__, __True__ of __False__. Hoeveel fijner zou het niet zijn als jullie alledrie aan je eigen stuk Python code kunnen werken en goede afspraken maken? Zus 1 geeft je een Camera object terug, waar je de laatste foto aan kunt vragen.\n",
    "\n",
    "__import GeheimeCamera__\n",
    "\n",
    "__camera = GeheimeCamera.Camera()__\n",
    "\n",
    "__laatste_foto = camera.LaatsteFoto()__\n",
    "\n",
    "Je zus geeft je een KatHerkenner object terug, maar wil dan wel graag die laatste foto kunnen gebruiken om vast te stellen of het wel of niet jullie kat is:\n",
    "\n",
    "__import KatHerkenner__\n",
    "\n",
    "__kat_herkenner = KatHerkenner.Detector(laatste_foto)__\n",
    "\n",
    "Nu maak je jouw code op basis van wat het Detector object van je zus als *interface* gebruikt:\n",
    "\n",
    "__onze_kat_staat_voor_de_deur = kat_herkenner.KatHerkend()__\n",
    "\n",
    "De code wordt een stuk overzichtelijker voor iedereen. Ook kunnen jullie alledrie aan je eigen programmacode werken. Het enige wat belangrijk is, is dat jullie goede afspraken maken over de *interface* van de code van je 2 zussen. Jij zegt tegen zus 1: \"Het kan me niet schelen wat je doet, als ik maar de functie LaatsteFoto() kan aanroepen om het resultaat daarvan aan zus 2 te kunnen geven. En het kan je ook niet schelen wat zus 2 allemaal doet, als je in haar code maar een functie KatHerkend() kan aanroepen van een Detector object. \n",
    "\n",
    "Zonder direct in details te treden kun je hieronder zien hoe dat dan uitpakt. We versimpelen het een beetje, maar kat_herkenner is een object in jouw programma dat op één of andere manier allerlei bezigheden achter de schermen uitvoert. Als je zus niet met zekerheid kan zeggen of het wel of niet jullie kat is, die voor de deur staat, dan moet ze nog steeds een functie maken die True of False teruggeeft op de vraag KatHerkend() ?"
   ]
  },
  {
   "cell_type": "code",
   "execution_count": 2,
   "metadata": {},
   "outputs": [
    {
     "name": "stdout",
     "output_type": "stream",
     "text": [
      "Mimi staat voor de deur!\n"
     ]
    }
   ],
   "source": [
    "class Detector:\n",
    "    # ...\n",
    "    WaarschijnlijkheidDatHetOnzeKatIs = 90\n",
    "    # ...\n",
    "    \n",
    "    def KatHerkend(self):   \n",
    "        # Gok dat kat voor de deur staat als de\n",
    "        # waarschijnlijkheid groter dan of gelijk aan 50 is.\n",
    "        return self.WaarschijnlijkheidDatHetOnzeKatIs >= 50;\n",
    "    \n",
    "    \n",
    "kat_herkenner = Detector()\n",
    "\n",
    "if kat_herkenner.KatHerkend():\n",
    "    print('Mimi staat voor de deur!')"
   ]
  },
  {
   "cell_type": "markdown",
   "metadata": {},
   "source": [
    "### Objecten en klassen\n",
    "\n",
    "Nu je even hebt kunnen snuffelen aan object georiënteerd programmeren, gaan we eerst wat dieper in op wat dat betekent. En daarna kijken we naar hoe dat in Python toegepast kan worden. Tot slot kijken we nog naar een praktische sterrenkundige toepassing.\n",
    "\n",
    "Wanneer noem je iets een __class__ (klasse) en wanneer is het een object? Nou, een __class__ is een beschrijving van een object. Zo simpel is het. Een __class__ neemt geen geheugen in beslag; het is alleen maar de omschrijving van wat een object dat tot die __class__ behoort kan doen. \"Planeet\" is een __class__. Als we het in onze taal over een planeet hebben, is dat niet direct een ding dat in heelal aanwezig is. Pas als je Venus of Mars zegt hebben we het over een ding dat ook echt bestaat en ruimte inneemt. Zo is het in de computer ook ongeveer."
   ]
  },
  {
   "cell_type": "code",
   "execution_count": 4,
   "metadata": {},
   "outputs": [
    {
     "name": "stdout",
     "output_type": "stream",
     "text": [
      "Dit is de planeet Aarde\n",
      "Dit is de planeet Mars\n"
     ]
    }
   ],
   "source": [
    "# Planeet is de omschrijving van een planeet. Elke planeet.\n",
    "\n",
    "class Planeet:\n",
    "    def __init__(self, naam):\n",
    "        self.naam = naam # Naam van de planeet.\n",
    "        \n",
    "    def omschrijving(self):\n",
    "        print('Dit is de planeet {0}'.format(self.naam))\n",
    "\n",
    "# Nu kunnen we net zoveel Planeet objecten in het leven roepen\n",
    "# als we maar willen.\n",
    "        \n",
    "aarde = Planeet('Aarde')\n",
    "mars = Planeet('Mars')\n",
    "              \n",
    "aarde.omschrijving()\n",
    "mars.omschrijving()"
   ]
  },
  {
   "cell_type": "markdown",
   "metadata": {},
   "source": [
    "Computerprogrammeurs zeggen dat aarde een *instantie* is van de class Planeet. Ook mars is een *instantie* van de class Planeet. In het stukje code hierboven zijn aarde en mars objecten, instanties van de class Planeet. Zowel aarde als mars nemen geheugen in beslag en hebben dus ook een adres:"
   ]
  },
  {
   "cell_type": "code",
   "execution_count": 12,
   "metadata": {},
   "outputs": [
    {
     "data": {
      "text/plain": [
       "<__main__.Planeet at 0x1505c4f1d30>"
      ]
     },
     "execution_count": 12,
     "metadata": {},
     "output_type": "execute_result"
    }
   ],
   "source": [
    "# Door alleen  het object aan te roepen krijg je het adres\n",
    "# in het computergeheugen, iets als\n",
    "# <__main__.Planeet at 0x1505c4f1d30>\n",
    "\n",
    "aarde\n"
   ]
  },
  {
   "cell_type": "markdown",
   "metadata": {},
   "source": [
    "### Wat heb je ook al weer aan al die objecten?\n",
    "\n",
    "We hebben het in het voorbeeld van de katherkenner hierboven al min of meer besproken, maar het is prettig om te weten wat de formele voordelen zijn van dat object georiënteerd programmeren. Het is een beetje een droog verhaal, maar zometeen komen er wat voorbeelden. Tanden op elkaar dus.\n",
    "\n",
    "__Informatie verstoppen__\n",
    "\n",
    "Eén van de belangrijkste voordelen van object georiënteerd programmeren is dat je bepaalde delen van je code onzichtbaar of zelfs onbereikbaar maakt voor de buitenwereld. Dat betekent niet dat je je programma daarmee sterker beveiligd tegen hackers! Het betekent dat je afspreekt hoe andere delen van je programma met jouw object kunnen praten (de interface, noemt men dat) en de binnenste werking van je object afgesloten houdt. Dat heeft als voordeel dat jij die werking (ook wel implementatie genoemd) kan veranderen, zolang je de interface maar hetzelfde houdt.\n",
    "\n",
    "De interface van je fiets is bijvoorbeeld dat als je naar voren trapt, dat de fiets dan gaat rijden en als je naar achteren trapt dat 'ie dan afremt. Het zal jou verder worst wezen hoeveel tanden de tandwielen in je fiets hebben (de implementatie), als die interface maar niet verandert.\n",
    "\n",
    "__Overerving__\n",
    "\n",
    "Als je programma's groeien, zul je soms merken dat bepaalde onderdelen erg op elkaar gaan lijken. Als we bijvoorbeeld even teruggaan naar onze Planeet class, dan kun je ook bedenken dat er eigenlijk nog een overkoepelende class Hemellichaam kan bestaan. Als je een Hemellichaam class maakt, dan kun je daar weer nieuwe classes Planeet, Maan, Ster, Komeet, enzovoorts van afleiden. Computerprogrammeurs noemen dat overerven. Een beetje zoals jij de kleur van je ogen misschien van je moeder of vader hebt geërfd.\n",
    "\n",
    "__Polymorfie__\n",
    "\n",
    "Letterlijk betekent polymorfie: verschillende vormen. Binnen het object georiënteerd programmeren betekent het dat je programma vanzelf het verschil kan herkennen tussen print(1234) en print('Universum'). Want in het eerste geval stuur je een nummer naar de print() functie, en in het tweede geval een string, een tekstregel. Heel knap dat Python daar zonder klagen mee uit de voeten kan! Die print() functie is dus polymorf. Dat wil zeggen dat er achter de schermen verschillende print() functies bestaan, die allemaal dezelfde *interface* delen, maar automatisch schakelen tussen de versies die nodig zijn om jouw opdrachten uit te voeren. "
   ]
  },
  {
   "cell_type": "markdown",
   "metadata": {},
   "source": [
    "### Object georiënteerd programmeren volgens Python\n",
    "\n",
    "Hierboven heb je al gezien dat je met de term __class__ een class definieert. Die class heeft zelf functies en variabelen. Die horen dus specifiek bij die class. Je maakt een bundel van functies en variabelen en geeft die hele bundel een naam, bijvoorbeeld Planeet. Op die manier heb je dan een class gedefinieerd waar je vervolgens objecten van kan gaan maken.\n",
    "\n",
    "Voor we een voorbeeld gaan bekijken even twee dingen:\n",
    "\n",
    "1) Om te kunnen praten met functies en variabelen binnen jouw object, moet je in Python specifiek zijn door er __self__ met een punt voor te zetten. Op die manier weet Python wat je bedoelt. In functies die bij een class horen is __self__ altijd het eerste argument. Dat wil zeggen: het eerste ding wat tussen haakjes staat. Zelfs als je het nooit zelf gebruikt!\n",
    "\n",
    "2) Een class kan een __init__ functie hebben, die automatisch aangeroepen wordt als het object in het leven wordt geroepen. Als je in andere programmeertalen bezig bent geweest ken je dat misschien onder de naam __constructor__. Zo'n init functie is superhandig om huishoudelijke zaken te regelen die bij de start van een object goed moeten staan."
   ]
  },
  {
   "cell_type": "code",
   "execution_count": 5,
   "metadata": {},
   "outputs": [
    {
     "name": "stdout",
     "output_type": "stream",
     "text": [
      "Far out wordt aangemaakt!\n",
      "Dit is planeet Far out\n",
      "<__main__.Planeet object at 0x00000224A47843C8>\n"
     ]
    }
   ],
   "source": [
    "# Onze class Planeet definieert hoe een Planeet object werkt.\n",
    "# Zie je hoe zowel __init__() als omschrijving() als eerste\n",
    "# functie-argument self hebben?\n",
    "\n",
    "class Planeet:\n",
    "    # Deze functie wordt vanzelf aangeroepen.\n",
    "    def __init__(self, naam):\n",
    "        print('{0} wordt aangemaakt!'.format(naam))\n",
    "        self.naam = naam # Naam van de planeet.\n",
    "        \n",
    "    # Deze functie kunnen we zelf aanroepen.\n",
    "    def omschrijving(self):\n",
    "        print('Dit is planeet {0}'.format(self.naam))\n",
    "        \n",
    "    # We kunnen natuurlijk altijd kijken wat self is.\n",
    "    def wat_ben_ik(self):\n",
    "        print(self)\n",
    "        \n",
    "far_out = Planeet('Far out')\n",
    "far_out.omschrijving()\n",
    "far_out.wat_ben_ik()"
   ]
  },
  {
   "cell_type": "markdown",
   "metadata": {},
   "source": [
    "De variabelen van je objecten bestaan daadwerkelijk *binnen* die objecten. Op die manier kun je variabelen met dezelfde naam binnen een object gebruiken en daarbuiten. Als het echt moet kun je in Python wel bij die object variabelen. "
   ]
  },
  {
   "cell_type": "code",
   "execution_count": 6,
   "metadata": {},
   "outputs": [
    {
     "name": "stdout",
     "output_type": "stream",
     "text": [
      "Ik ben Mimi, een huiskat\n",
      "Ik ben Mimi, een huiskat\n",
      "Ik ben Mimi, een ratelslang\n"
     ]
    }
   ],
   "source": [
    "class Kat:\n",
    "    def __init__(self, naam):\n",
    "        self.naam = naam # Naam van kat.\n",
    "        self.soort = 'huiskat'\n",
    "    \n",
    "    def Informatie(self):\n",
    "        print('Ik ben {0}, een {1}'.format(self.naam, self.soort))\n",
    "\n",
    "# We roepen een kat in het leven.\n",
    "mimi = Kat('Mimi')\n",
    "mimi.Informatie()\n",
    "\n",
    "# We kunnen rustig zelf ook een variabele soort\n",
    "# gebruiken, Mimi blijft een huiskat.\n",
    "soort = 'vliegende vis'\n",
    "mimi.Informatie()\n",
    "\n",
    "# Maar desgewenst kunnen we er wel een\n",
    "# ratelslang van maken! Kijk uit!\n",
    "mimi.soort = 'ratelslang'\n",
    "mimi.Informatie()\n"
   ]
  },
  {
   "cell_type": "code",
   "execution_count": 7,
   "metadata": {},
   "outputs": [
    {
     "name": "stdout",
     "output_type": "stream",
     "text": [
      "Of ik, Aarde, warmte afgeef?\n",
      "Nee\n",
      "Of ik, Wega, warmte afgeef?\n",
      "Ja, ik gloei!\n"
     ]
    }
   ],
   "source": [
    "# Overerving (inheritance) is een ingewikkeld begrip! Maar hier is toch\n",
    "# een voorbeeld. Je kunt er altijd later opnieuw naar kijken.\n",
    "\n",
    "# Zoals we al zeiden kun je boven Planeet nog een \"super klasse\"\n",
    "# Hemellichaam bedenken. Want elke Planeet is ook een Hemellichaam\n",
    "# en deelt daar verschillende eigenschappen mee.\n",
    "\n",
    "class Hemellichaam:\n",
    "    def __init__(self, naam):\n",
    "        self.naam = naam\n",
    "        self.warmtebron = 'Geen idee'\n",
    "        \n",
    "    def GeefIkWarmte(self):\n",
    "        print('Of ik, {0}, warmte afgeef?'.\\\n",
    "              format(self.naam))\n",
    "        print(self.warmtebron)\n",
    "\n",
    "# Nu kunnen we zeggen dat een Planeet een Hemellichaam is.        \n",
    "        \n",
    "class Planeet(Hemellichaam):\n",
    "    def __init__(self, naam):\n",
    "        Hemellichaam.__init__(self, naam)\n",
    "        self.warmtebron = 'Nee'\n",
    "\n",
    "# Maar ook een Ster is een Hemellichaam.        \n",
    "        \n",
    "class Ster(Hemellichaam):\n",
    "    def __init__(self, naam):\n",
    "        Hemellichaam.__init__(self, naam)\n",
    "        self.warmtebron = 'Ja, ik gloei!'\n",
    "        \n",
    "# En nu gebeurt er iets heel bijzonders. Want zowel de\n",
    "# Planeet als de Ster kunnen vertellen of ze warmte\n",
    "# afgeven.\n",
    "        \n",
    "aarde = Planeet('Aarde')\n",
    "aarde.GeefIkWarmte()\n",
    "\n",
    "wega = Ster('Wega')\n",
    "wega.GeefIkWarmte()"
   ]
  },
  {
   "cell_type": "markdown",
   "metadata": {},
   "source": [
    "Het wordt nog interessanter als je je realiseert hoe een Planeet verschilt van een Ster (of een Maan). Dan kun je nog steeds gebruik maken van overerving, maar breid je je class uit met zaken die specifiek zijn voor dat object."
   ]
  },
  {
   "cell_type": "code",
   "execution_count": 8,
   "metadata": {},
   "outputs": [
    {
     "name": "stdout",
     "output_type": "stream",
     "text": [
      "Ik ben een ster en ik heet Zon\n",
      "Ik ben een planeet en ik heet Mercurius\n",
      "Ik ben een planeet en ik heet Venus\n",
      "Ik ben een planeet en ik heet Aarde\n",
      "Ik ben een planeet en ik heet Mars\n"
     ]
    }
   ],
   "source": [
    "# We breiden ons Hemellichaam nog een beetje uit.\n",
    "# Het weet nu ook van welke soort het is en kent\n",
    "# een Informatie() functie die wat over zichzelf vertelt.\n",
    "\n",
    "class Hemellichaam:\n",
    "    def __init__(self, naam):\n",
    "        self.naam = naam\n",
    "        self.warmtebron = 'Geen idee'\n",
    "        self.soort = 'hemellichaam'\n",
    "        \n",
    "    def GeefIkWarmte(self):\n",
    "        print('Of ik, {0}, warmte afgeef?'.\\\n",
    "              format(self.naam))\n",
    "        print(self.warmtebron)\n",
    "        \n",
    "    def Informatie(self):\n",
    "        print('Ik ben een {0} en ik heet {1}'.\\\n",
    "              format(self.soort, self.naam))\n",
    "\n",
    "# Nu kunnen we zeggen dat een Planeet een Hemellichaam is.        \n",
    "        \n",
    "class Planeet(Hemellichaam):\n",
    "    def __init__(self, naam):\n",
    "        Hemellichaam.__init__(self, naam)\n",
    "        self.warmtebron = 'Nee'\n",
    "        self.soort = 'planeet'\n",
    "\n",
    "# Maar ook een Ster is een Hemellichaam.        \n",
    "        \n",
    "class Ster(Hemellichaam):\n",
    "    def __init__(self, naam):\n",
    "        Hemellichaam.__init__(self, naam)\n",
    "        self.warmtebron = 'Ja, ik gloei!'\n",
    "        self.soort = 'ster'\n",
    "\n",
    "# Nu maken we een heel zonnestelsel aan.\n",
    "\n",
    "zonnestelsel = []\n",
    "\n",
    "zonnestelsel.append(Ster('Zon'))\n",
    "zonnestelsel.append(Planeet('Mercurius'))\n",
    "zonnestelsel.append(Planeet('Venus'))\n",
    "zonnestelsel.append(Planeet('Aarde'))\n",
    "zonnestelsel.append(Planeet('Mars'))\n",
    "\n",
    "# Let op! Met slechts twee regels printen we\n",
    "# hele zonnestelsel, en de Informatie() functie\n",
    "# van Hemellichaam werkt ook nog voor objecten\n",
    "# die overerven van Hemellichaam.\n",
    "\n",
    "for ding in zonnestelsel:\n",
    "    ding.Informatie()"
   ]
  },
  {
   "cell_type": "markdown",
   "metadata": {},
   "source": [
    "Maar we kunnen nog een stapje verder gaan. Want stel nu dat we van planeten ook willen weten hoeveel manen ze hebben. Dan blijkt dat onze class Planeet een eigen Informatie() functie kan definieren. En nog steeds snapt Python wat we bedoelen."
   ]
  },
  {
   "cell_type": "code",
   "execution_count": 9,
   "metadata": {},
   "outputs": [
    {
     "name": "stdout",
     "output_type": "stream",
     "text": [
      "Ik ben een ster en ik heet Zon\n",
      "Ik ben planeet Mercurius en ik heb 0 manen\n",
      "Ik ben planeet Venus en ik heb 0 manen\n",
      "Ik ben planeet Aarde en ik heb 1 manen\n",
      "Ik ben planeet Mars en ik heb 2 manen\n"
     ]
    }
   ],
   "source": [
    "# We breiden ons Hemellichaam nog een beetje uit.\n",
    "# Het weet nu ook van welke soort het is en kent\n",
    "# een Informatie() functie die wat over zichzelf vertelt.\n",
    "\n",
    "class Hemellichaam:\n",
    "    def __init__(self, naam):\n",
    "        self.naam = naam\n",
    "        self.warmtebron = 'Geen idee'\n",
    "        self.soort = 'hemellichaam'\n",
    "        \n",
    "    def GeefIkWarmte(self):\n",
    "        print('Of ik, {0}, warmte afgeef?'.format(self.naam))\n",
    "        print(self.warmtebron)\n",
    "        \n",
    "    def Informatie(self):\n",
    "        print('Ik ben een {0} en ik heet {1}'.\\\n",
    "              format(self.soort, self.naam))\n",
    "\n",
    "# Nu kunnen we zeggen dat een Planeet een Hemellichaam is.        \n",
    "        \n",
    "class Planeet(Hemellichaam):\n",
    "    def __init__(self, naam, manen):\n",
    "        Hemellichaam.__init__(self, naam)\n",
    "        self.warmtebron = 'Nee'\n",
    "        self.soort = 'planeet'\n",
    "        self.manen = manen\n",
    "        \n",
    "    # Planeet definieert een eigen Informatie() functie.    \n",
    "        \n",
    "    def Informatie(self):\n",
    "        print('Ik ben planeet {0} en ik heb {1} manen'.\\\n",
    "              format(self.naam, self.manen))\n",
    "\n",
    "# Maar ook een Ster is een Hemellichaam.        \n",
    "        \n",
    "class Ster(Hemellichaam):\n",
    "    def __init__(self, naam):\n",
    "        Hemellichaam.__init__(self, naam)\n",
    "        self.warmtebron = 'Ja, ik gloei!'\n",
    "        self.soort = 'ster'\n",
    "\n",
    "# Nu maken we een heel zonnestelsel aan.\n",
    "\n",
    "zonnestelsel = []\n",
    "\n",
    "zonnestelsel.append(Ster('Zon'))\n",
    "zonnestelsel.append(Planeet('Mercurius', 0))\n",
    "zonnestelsel.append(Planeet('Venus', 0))\n",
    "zonnestelsel.append(Planeet('Aarde', 1))\n",
    "zonnestelsel.append(Planeet('Mars', 2))\n",
    "\n",
    "# Let op! Met nog steeds slechts twee regels printen we\n",
    "# hele zonnestelsel, en de juiste Informatie() functie\n",
    "# wordt automatisch aangeroepen. Pure magie!\n",
    "\n",
    "for ding in zonnestelsel:\n",
    "    ding.Informatie()"
   ]
  },
  {
   "cell_type": "markdown",
   "metadata": {},
   "source": [
    "Als je het voorgaande nog helemaal kunt volgen: gefeliciteerd! Dat is één van de belangrijkste dingen van object georiënteerd programmeren. Als je al afgehaakt bent, geen nood! Waarschijnlijk begrijp je een heleboel van dit artikel al wel. Met geduld en veel uitproberen groei je als programmeur.\n",
    "\n",
    "We kijken nog even naar die veel-vormigheid, polymorfie genoemd. Functies die je al gebruikt in Python reageren flexibel op de input die je er aan geeft:"
   ]
  },
  {
   "cell_type": "code",
   "execution_count": 3,
   "metadata": {},
   "outputs": [
    {
     "name": "stdout",
     "output_type": "stream",
     "text": [
      "16\n",
      "3\n",
      "3\n"
     ]
    }
   ],
   "source": [
    "# len() is een polymorfe functie.\n",
    "\n",
    "# Hier krijgt len() een string, een tekstregel.\n",
    "l1 = len('Hallo Universum!')\n",
    "print(l1)\n",
    "\n",
    "# Maar hier een tuple.\n",
    "l2 = len((1, 2, 3))\n",
    "print(l2)\n",
    "\n",
    "# En hier een list.\n",
    "l3 = len([1, 2, 3])\n",
    "print(l3)\n",
    "\n",
    "# En elke keer roep je toch gewoon dezelfde\n",
    "# functie len() aan."
   ]
  },
  {
   "cell_type": "markdown",
   "metadata": {},
   "source": [
    "Tot slot nog een voorbeeld van een __class__ Planeet, waarbij je allerlei interessante gegevens over planeten kunt opvragen. En niet alleen dat, we gaan ook het zonnestelsel sorteren! "
   ]
  },
  {
   "cell_type": "code",
   "execution_count": 34,
   "metadata": {},
   "outputs": [
    {
     "name": "stdout",
     "output_type": "stream",
     "text": [
      "Zonnestelsel gesorteerd op aantal manen\n",
      "Dit is planeet Mercurius met 0 manen\n",
      "Dit is planeet Venus met 0 manen\n",
      "Dit is planeet Aarde met 1 maan\n",
      "Dit is planeet Mars met 2 manen\n",
      "Dit is planeet Neptunus met 13 manen\n",
      "Dit is planeet Uranus met 27 manen\n",
      "Dit is planeet Saturnus met 62 manen\n",
      "Dit is planeet Jupiter met 79 manen\n",
      "Zonnestelsel gesorteerd op aantal massa\n",
      "maar... van groot naar klein!\n",
      "Jupiter - 1.9e+27 kg\n",
      "Saturnus - 5.69e+26 kg\n",
      "Neptunus - 1.02e+26 kg\n",
      "Uranus - 8.68e+25 kg\n",
      "Aarde - 5.98e+24 kg\n",
      "Venus - 4.87e+24 kg\n",
      "Mars - 6.42e+23 kg\n",
      "Mercurius - 3.3e+23 kg\n"
     ]
    }
   ],
   "source": [
    "# Wederom maken we een class Planeet. Dat is zeg maar de blauwdruk\n",
    "# waaruit we een heleboel planeten gaan stampen.\n",
    "\n",
    "class Planeet:\n",
    "    # De __init__ functie kun je met 4 of 5 argumenten aanroepen.\n",
    "    # Want als een planeet 0 manen heeft kun je dat weglaten.\n",
    "    \n",
    "    def __init__(self, naam, afstand, jaar, massa, manen = 0):\n",
    "        self.naam = naam       # Naam van de planeet.\n",
    "        self.afstand = afstand # Afstand tot de zon (km).\n",
    "        self.jaar = jaar       # Rotatieperiode om zon (dagen).\n",
    "        self.massa = massa     # Massa (kg).\n",
    "        self.manen = manen     # Aantal bekende manen.\n",
    "        \n",
    "    # Elke planeet kan zichzelf omschrijven. Om correct Nederlands\n",
    "    # te gebruiken zeg je '1 maan', maar ook '0 manen' of\n",
    "    # '22 manen'. Dat doen we hier met een trucje.\n",
    "    # self.manen == 1 is namelijk False (0) of True (1).\n",
    "    # En die uitkomst kunnen we gebruiken als index voor de\n",
    "    # tuple ('manen', 'maan').\n",
    "    \n",
    "    def omschrijving(self):\n",
    "        print('Dit is planeet {0} met {1} {2}'.format(self.naam, \\\n",
    "                self.manen, ('manen', 'maan')[self.manen == 1]))\n",
    "\n",
    "# Omdat heel veel planeetbanen in aardse jaren worden gegeven,\n",
    "# maken we het onszelf makkelijk en definieren een aards jaar.\n",
    "\n",
    "jaar = 365.26        \n",
    "\n",
    "# Start een lege lijst die we aanvullen met planeten.\n",
    "\n",
    "zonnestelsel = []\n",
    "\n",
    "# Eén voor één voegen we de planeten toe. Zie je hoe we het aantal\n",
    "# manen weg kunnen laten voor planeten zonder manen?\n",
    "\n",
    "zonnestelsel.append(Planeet('Mercurius', \\\n",
    "    57.9e6, 87.96, 3.3e23))\n",
    "zonnestelsel.append(Planeet('Venus', \\\n",
    "    108.2e6, 224.68, 4.87e24))\n",
    "zonnestelsel.append(Planeet('Aarde', \\\n",
    "    149.6e6, jaar, 5.98e24, 1))\n",
    "zonnestelsel.append(Planeet('Mars', \\\n",
    "    227.9e6, 686.98, 6.42e23, 2))\n",
    "zonnestelsel.append(Planeet('Jupiter', \\\n",
    "    778.3e6, 11.862 * jaar, 1.9e27, 79))\n",
    "zonnestelsel.append(Planeet('Saturnus', \\\n",
    "    1.427e9, 29.4571 * jaar, 5.69e26, 62))\n",
    "zonnestelsel.append(Planeet('Uranus', \\\n",
    "    2.871e9, 84.07 * jaar, 8.68e25, 27))\n",
    "zonnestelsel.append(Planeet('Neptunus', \\\n",
    "    4.4971e9, 164.81 * jaar, 1.02e26, 13))\n",
    "\n",
    "# Zonnestelsel is nu een lijst met alle bekende\n",
    "# planeten en wat gegevens daarover. We hebben ze\n",
    "# in volgorde van afstand tot de zon ingevoerd.\n",
    "# Maar wat nou als we ze in aantal manen willen\n",
    "# sorteren? Je kunt de hele list zelf sorteren\n",
    "# met de sort() functie. Je moet dan aangeven\n",
    "# volgens welke key(sleutel) je wilt sorteren.\n",
    "\n",
    "print('Zonnestelsel gesorteerd op aantal manen')\n",
    "\n",
    "zonnestelsel.sort(key=lambda x: x.manen)\n",
    "\n",
    "for planeet in zonnestelsel:\n",
    "    planeet.omschrijving()\n",
    "    \n",
    "print('Zonnestelsel gesorteerd op aantal massa')\n",
    "print('maar... van groot naar klein!')\n",
    "zonnestelsel.sort(key=lambda x: x.massa, reverse=True)\n",
    "\n",
    "for planeet in zonnestelsel:\n",
    "    print('{0} - {1} kg'.format(planeet.naam, planeet.massa))\n",
    "\n",
    "# Kun jij het zonnestelsel sorteren op\n",
    "# rotatieperiode om de zon? Succes!"
   ]
  },
  {
   "cell_type": "code",
   "execution_count": null,
   "metadata": {
    "collapsed": true
   },
   "outputs": [],
   "source": []
  }
 ],
 "metadata": {
  "kernelspec": {
   "display_name": "Python 3",
   "language": "python",
   "name": "python3"
  },
  "language_info": {
   "codemirror_mode": {
    "name": "ipython",
    "version": 3
   },
   "file_extension": ".py",
   "mimetype": "text/x-python",
   "name": "python",
   "nbconvert_exporter": "python",
   "pygments_lexer": "ipython3",
   "version": "3.6.6"
  }
 },
 "nbformat": 4,
 "nbformat_minor": 2
}
