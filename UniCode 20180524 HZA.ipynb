{
 "cells": [
  {
   "cell_type": "markdown",
   "metadata": {},
   "source": [
    "\n",
    "\n",
    "<a rel=\"license\" href=\"http://creativecommons.org/licenses/by-nc/4.0/\"><img alt=\"Creative Commons License\" style=\"border-width:0\" src=\"https://i.creativecommons.org/l/by-nc/4.0/88x31.png\" /></a><br />This work is licensed under a <a rel=\"license\" href=\"http://creativecommons.org/licenses/by-nc/4.0/\">Creative Commons Attribution-NonCommercial 4.0 International License</a>."
   ]
  },
  {
   "cell_type": "markdown",
   "metadata": {},
   "source": [
    "## __UniCode__\n",
    "\n",
    "__Hens Zimmerman__\n",
    "\n",
    "[henszimmerman@gmail.com](mailto:henszimmerman@gmail.com)\n",
    "\n",
    "In deze reeks artikelen leer je programmeren met de programmeertaal Python. Python is een gratis open source programmeertaal, die je kunt gebruiken op bijna alle soorten computers. Als je nog maar net begint met programmeren, en geen idee hebt waar je moet beginnen, begin dan met Anaconda Python 3.6. De download vind je hier: https://www.anaconda.com/. Natuurlijk gaat onze voorkeur uit naar astronomische berekeningen, maar soms maken we een uitstapje naar iets anders. Zo gaan we in deze aflevering bezig met datum en tijd én mooie grafieken maken met [matplotlib](https://matplotlib.org). Datum en tijd hebben we al wel eens vaker bekeken. Matplotlib is een populaire module voor Python waar je data mee kunt weergeven. \n",
    "        \n",
    "Nog iets bijzonders: dit is een Jupyter notebook. Dat betekent dat je niet alles hoeft over te typen én dat je kunt experimenteren met de Python code. Super handig dus. Als je meer over Jupyter wilt weten kun je [hier](https://www.datacamp.com/community/tutorials/tutorial-jupyter-notebook) kijken. __Voer de code wel in volgorde uit, anders bestaat er een kans dat je foutmeldingen krijgt.__\n",
    "\n",
    "De link naar de [UniCode Jupyter notebooks](http://bit.ly/JWGUniCode) is gemakkelijk te onthouden: [bit.ly/JWGUniCode](http://bit.ly/JWGUniCode).\n",
    "\n",
    "Nog een kleinigheid: als je zelf met Jupyter notebooks bezig wilt, dan is het handig om wat [markdown](https://www.markdownguide.org) te leren. Dat is een handig taaltje, dat je overal op het internet tegenkomt om documenten mee op te maken.\n"
   ]
  },
  {
   "cell_type": "code",
   "execution_count": 4,
   "metadata": {},
   "outputs": [
    {
     "name": "stdout",
     "output_type": "stream",
     "text": [
      "\n",
      "S\n",
      "So\n",
      "Sop\n",
      "Soph\n",
      "Sophi\n",
      "Sophie\n",
      "Sophie \n",
      "Sophie v\n",
      "Sophie va\n",
      "Sophie van\n",
      "Sophie van \n",
      "Sophie van d\n",
      "Sophie van de\n",
      "Sophie van de \n",
      "Sophie van de T\n",
      "Sophie van de To\n",
      "Sophie van de Toe\n",
      "Sophie van de Toek\n",
      "Sophie van de Toeko\n",
      "Sophie van de Toekom\n",
      "Sophie van de Toekoms\n",
      "Sophie van de Toekomst\n"
     ]
    }
   ],
   "source": [
    "# Even oefenen! In een Jupyter notebook kun je gewoon typen.\n",
    "# Verander hieronder de regel code met jouw naam en klik op \"Run Cell\" (pijltje met streepje bovenaan).\n",
    "\n",
    "MijnNaam = \"Sophie van de Toekomst\"\n",
    "\n",
    "for idx in range(0, len(MijnNaam) + 1):\n",
    "    print(MijnNaam[:idx])"
   ]
  },
  {
   "cell_type": "markdown",
   "metadata": {},
   "source": [
    "## Datum en Tijd\n",
    "\n",
    "Heel vaak tijdens het programmeren hebben we te maken met datum en tijd. Zeker in de sterrenkunde, waar veel interessante gebeurtenissen precies op een bepaald moment plaatsvinden. \n",
    "\n",
    "__NB:__ Als je dit als Jupyter notebook uitvoert, zie je misschien niet de juiste tijd. Dat heeft er mee te maken dat de Jupyter notebooks worden uitgevoerd op de servers van MyBinder en niet op jouw computer thuis."
   ]
  },
  {
   "cell_type": "code",
   "execution_count": 4,
   "metadata": {},
   "outputs": [
    {
     "name": "stdout",
     "output_type": "stream",
     "text": [
      "time.struct_time(tm_year=2018, tm_mon=6, tm_mday=14, tm_hour=16, tm_min=57, tm_sec=43, tm_wday=3, tm_yday=165, tm_isdst=1)\n"
     ]
    }
   ],
   "source": [
    "# Python heeft een module time, die we goed kunnen gebruiken voor datum-tijd-berekeningen.\n",
    "\n",
    "import time \n",
    "\n",
    "# De functie localtime() geeft ons een tuple terug, maar dat leest niet zo prettig.\n",
    "\n",
    "print(time.localtime())"
   ]
  },
  {
   "cell_type": "code",
   "execution_count": 5,
   "metadata": {},
   "outputs": [
    {
     "name": "stdout",
     "output_type": "stream",
     "text": [
      "Thu Jun 14 13:26:24 2018\n"
     ]
    }
   ],
   "source": [
    "# Met de functie asctime() hebben we snel een leesbare datum en tijd.\n",
    "\n",
    "print(time.asctime())"
   ]
  },
  {
   "cell_type": "code",
   "execution_count": 3,
   "metadata": {},
   "outputs": [
    {
     "name": "stdout",
     "output_type": "stream",
     "text": [
      "Het is 13:21 uur op 14 June 2018.\n",
      "Exacte tijd: 13:21:04\n",
      "13:21:04 06/14/18\n",
      "It's Thursday Jun 14, 2018 - 01:21 PM\n"
     ]
    }
   ],
   "source": [
    "# Maar met strftime() hebben we totale controle over hoe we de datum en tijd weergeven.\n",
    "# Wat je allemaal kunt weergeven vind je hier: https://docs.python.org/2/library/time.html#time.strftime\n",
    "# Een paar voorbeelden:\n",
    "\n",
    "nu = time.localtime()\n",
    "\n",
    "print(time.strftime(\"Het is %H:%M uur op %d %B %Y.\", nu))\n",
    "\n",
    "print(time.strftime(\"Exacte tijd: %H:%M:%S\", nu))\n",
    "\n",
    "print(time.strftime(\"%X %x\", nu))\n",
    "\n",
    "print(time.strftime(\"It's %A %b %d, %Y - %I:%M %p\", nu))\n",
    "\n",
    "# Probeer het zelf ook eens! Hier zijn de parameters die strftime begrijpt.\n",
    "# \n",
    "# %a\tAfgekorte dag van de week.\n",
    "# %A\tVolledige dag van de week.\n",
    "# %w\tDag van de week als nummer (zondag is 0).\n",
    "# %d\tDag met twee cijfers\n",
    "# %-d\tDag als een cijfer\n",
    "# %b\tAfgekorte naam van de maand.\n",
    "# %B\tVolledige naam van de maand.\n",
    "# %m\tMaand met twee cijfers.\n",
    "# %-m\tMaand als cijfer.\n",
    "# %y\tJaar als twee cijfers.\n",
    "# %Y\tJaar met vier cijfers.\n",
    "# %H\tUur met twee cijfers (24 urige klok).\n",
    "# %-H\tUur (24 urige klok).\n",
    "# %I\tUur met twee cijfers (12 urige klok).\n",
    "# %-I\tUur (12 urige klok).\n",
    "# %p\tAM of PM.\n",
    "# %M\tMinuut als twee cijfers.\n",
    "# %-M\tMinuut.\n",
    "# %S\tSeconde als twee cijfers.\n",
    "# %-S\tSeconde.\n",
    "# %f\tMicroseconden.\n",
    "# %z\tUTC offset.\n",
    "# %Z\tNaam van tijdzone.\n",
    "# %j\tDag van het jaar met drie cijfers.\n",
    "# %-j\tDay van het jaar.\n",
    "# %U\tWeeknummer met twee cijfers.\n",
    "# %W\tWeeknummer.\n",
    "# %c\tDatum en tijd als string.\n",
    "# %x\tDatum als string.\n",
    "# %X\tTijd als string.\n",
    "# %%\tEen percentage teken.\n",
    "\n"
   ]
  },
  {
   "cell_type": "code",
   "execution_count": null,
   "metadata": {
    "collapsed": true
   },
   "outputs": [],
   "source": [
    "# Een kalender is ook geen probleem in Python!\n",
    "\n",
    "import calendar\n",
    "\n",
    "goedeInput = False\n",
    "\n",
    "while not goedeInput:\n",
    "  jaar = input(\"In welk jaar ben je geboren? \")\n",
    "  maand = input(\"En in welke maand ben je geboren? \")\n",
    "\n",
    "  try:\n",
    "    jaar =  int(jaar)\n",
    "    maand = int(maand)\n",
    "    \n",
    "    # Hier komen we pas aan als jaar en maand getallen zijn!\n",
    "    goedeInput = (maand >= 1) & (maand <= 12)\n",
    "  except ValueError:\n",
    "    print(\"Grappenmaker!\")\n",
    "\n",
    "print(\"Hier is een kalender van je geboortemaand:\\n\")\n",
    "\n",
    "cal = calendar.month(jaar, maand)\n",
    "print(cal)\n"
   ]
  },
  {
   "cell_type": "markdown",
   "metadata": {},
   "source": [
    "## Even een tip tussendoor\n",
    "\n",
    "Als je plezier hebt in het programmeren in Python en sneller wilt leren, dan zijn er op internet allerlei plaatsen te vinden waar je zelf aan de slag kunt. Ter inspiratie zijn hier een paar van de betere sites:\n",
    "\n",
    "- [HackerRank](https://www.hackerrank.com/): Op deze site kun je allemaal kleine oefeningen doen, waardoor je punten verzamelt en steeds beter wordt. Het kost helemaal niks, en je kunt er op den duur zelfs betaald werk mee vinden!\n",
    "\n",
    "- [Project Euler](https://projecteuler.net): Deze website is een lange reeks van steeds moeilijker wordende wiskunde- en programmeeruitdagingen. Kost weer helemaal geen cent en je wordt al doende beter en beter.\n",
    "\n",
    "- [NAND to Tetris](http://www.nand2tetris.org): Dit is geen Python website, maar wel een heel goede manier om te leren hoe computers werken. De website is ook gratis, en je leer eerst NAND geheugen te bouwen, en daarmee bouw je een steeds beter functionerende virtuele computer.\n",
    "\n",
    "- [Coder Byte](https://coderbyte.com): Deze website heeft ook een betaald gedeelte, maar je kunt gratis Python leren en uitdagingen accepteren.\n",
    "\n",
    "- [Practice Python](https://www.practicepython.org): Okay, misschien niet de meest gelikte website, maar je vindt er uitdagingen én oplossingen.\n",
    "\n",
    "- [Code Wars](http://www.codewars.com): Hele mooie site, waar je ook kunt betalen voor nog meer mogelijkheden. Maar genoeg te doen zonder dat je je portemonnee hoeft te trekken!\n",
    "\n",
    "- [W3 Resource](https://www.w3resource.com/python-exercises/): Tot slot deze site, waar je gratis Python problemen kunt oplossen en ook oplossingen kunt inzien.\n"
   ]
  },
  {
   "cell_type": "markdown",
   "metadata": {},
   "source": [
    "# Tijd en Matplotlib\n",
    "\n",
    "Wat we nu gaan doen is een simpele X/Y grafiek tekenen van tijddilatatie. Sinds Einstein weten we dat de tijdsbeleving relatief is, en afhangt van de beweging en de zwaartekracht. In ons dagelijks leven hebben we daar weinig last van, maar als je in een raket stapt die supersnel de aarde verlaat, dan verloopt de tijd voor jou langzamer dan voor iemand die op aarde blijft. Jijzelf merkt daar niks van... totdat je op aarde terugkomt en iedereen een stuk ouder blijkt dan je had gedacht.\n",
    "\n",
    "Tijddilatatie is meer dan een theorie. Experimenteel is aangetoond dat het effect echt bestaat:\n",
    "\n",
    "- Door de tijddilatatie bereiken veel meer [muonen](https://en.wikipedia.org/wiki/Muon) het aardoppervlak dan anders het geval zou zijn. Een dergelijk gedocumenteerd experiment werd in 1941 uitgevoerd door de natuurkundigen D. Hall en Bruno Rossi, op twee verschillende hoogtelocaties bij Mount Washington in het noordoosten van de Verenigde Staten (hoogteverschil bijna 2000m). In 1963 werd dit experiment herhaald door de Amerikanen David H. Frisch en James H. Smith die hun werk op film vastlegden.\n",
    "\n",
    "- Op aarde kan dit effect met een deeltjesversneller waargenomen worden. Elementaire deeltjes kunnen met behulp van elektrische velden gemakkelijk tot dicht bij de lichtsnelheid versneld worden.\n",
    "\n",
    "- Men heeft snelle vliegtuigen uitgerust met zeer nauwkeurige atoomklokken. Na een reis rond de aarde bleken de klokken iets minder tijdsduur gemeten te hebben dan klokken die op aarde waren gebleven.\n",
    "\n",
    "- GPS satellieten worden gecorrigeerd voor het effect van tijddilatatie, omdat je anders hopeloos verdwaald zou raken met je Tom Tom of [Google Maps](https://www.google.com/maps).\n",
    "\n"
   ]
  },
  {
   "cell_type": "code",
   "execution_count": 68,
   "metadata": {},
   "outputs": [
    {
     "data": {
      "image/png": "[encoded data removed]",
      "text/plain": [
       "<matplotlib.figure.Figure at 0x29af68f54e0>"
      ]
     },
     "metadata": {},
     "output_type": "display_data"
    }
   ],
   "source": [
    "\"\"\"\n",
    "Tijd dilatati (dilatatie = uitrekking) is het verschijnsel dat volgens een waarnemer \n",
    "de tijd van een andere waarnemer trager verloopt. Men onderscheidt tijddilatatie in verband \n",
    "met beweging, en die in verband met gravitatie: gravitationele tijddilatatie.\n",
    "Bron: https://nl.wikipedia.org/wiki/Tijddilatatie\n",
    "\"\"\"\n",
    "\n",
    "# We gaan een grafiek tekenen met matplotlib.\n",
    "\n",
    "import matplotlib.pyplot as plt\n",
    "\n",
    "\n",
    "# NumPy is een mooie wetenschappelijke numerieke module voor wiskundige berekeningen.\n",
    "\n",
    "import numpy as np\n",
    "\n",
    "\n",
    "# De lichtsnelheid (in meters per seconde).\n",
    "\n",
    "c = 299792458\n",
    "\n",
    "\n",
    "# Periode waar we naar kijken in seconden.\n",
    "# Je kunt deze aanpassen, maar dat maakt voor de vorm van de grafiek niets uit.\n",
    "\n",
    "periode = 60\n",
    "\n",
    "\n",
    "# Het ruimteschip gaat van stilstand (0) tot bijna de lichtsnelheid (c).\n",
    "\n",
    "t = np.arange(0.0, 1, 0.01) * c\n",
    "\n",
    "\n",
    "# De formule voor tijd dilatatie.\n",
    "# http://www.softschools.com/formulas/physics/time_dilation_formula/222/\n",
    "\n",
    "s = periode / np.sqrt(1 - (t / c))\n",
    "\n",
    "\n",
    "# Teken de grafiek.\n",
    "\n",
    "plt.plot(t, s)\n",
    "\n",
    "# Kies een mooie stijl voor de grafiek.\n",
    "# Als je wilt zien wat er allemaal beschikbaar is:\n",
    "# print (plt.style.available)\n",
    "\n",
    "plt.style.use('seaborn-white')\n",
    "\n",
    "plt.xlabel('Snelheid ruimteschip (m/sec)')\n",
    "plt.ylabel(str(periode) + ' sec. in ruimteschip gezien vanaf aarde')\n",
    "plt.title('Tijd-kromming in een ruimteschip')\n",
    "\n",
    "plt.grid(True)\n",
    "\n",
    "plt.show()\n"
   ]
  },
  {
   "cell_type": "markdown",
   "metadata": {
    "collapsed": true
   },
   "source": [
    "# Nu is het tijd voor een sterrenhemel\n",
    "\n",
    "Natuurlijk kun je met matplotlib ook andere dingen tekenen. Laten we eens proberen een soort sterrenhemel te tekenen."
   ]
  },
  {
   "cell_type": "code",
   "execution_count": 99,
   "metadata": {},
   "outputs": [
    {
     "data": {
      "image/png": "[encoded data removed]",
      "text/plain": [
       "<matplotlib.figure.Figure at 0x29b45b3a908>"
      ]
     },
     "metadata": {},
     "output_type": "display_data"
    }
   ],
   "source": [
    "# We tekenen uiteraard weer met onze beste nieuwe vriend, matplotlib.\n",
    "\n",
    "import matplotlib.pyplot as plt\n",
    "\n",
    "\n",
    "# En NumPy is ook weer van de partij voor de wiskundige zaken.\n",
    "\n",
    "import numpy as np\n",
    "\n",
    "\n",
    "# Hoeveel sterren wil je?\n",
    "\n",
    "aantal_sterren = 80\n",
    "\n",
    "# Zet sterren op een willekeurige locatie.\n",
    "\n",
    "x = np.random.rand(aantal_sterren)\n",
    "y = np.random.rand(aantal_sterren)\n",
    "\n",
    "# Voor de kleuren hebben we net zoveel willekeurige waarden\n",
    "# tussen 0 en 1 nodig als dat we sterren tekenen.\n",
    "\n",
    "colors = np.random.rand(aantal_sterren)\n",
    "\n",
    "# Niet elke ster is even groot. Het is gebruikelijk sterren iets groter\n",
    "# te tekenen als ze helderder zijn, alhoewel ze voor je oog in het echt\n",
    "# oneindig klein zijn. Hieronder maken we de sterren willekeurig in grote\n",
    "# met de bekende formule van het oppervlak van een cirkel.\n",
    "# Als je radius groter maakt, krijg je knoepers van sterren!\n",
    "# https://nl.wikipedia.org/wiki/Cirkel\n",
    "\n",
    "radius = 1.3\n",
    "area = np.pi * (radius * np.random.rand(n))**2\n",
    "\n",
    "# We zien alleen sterren als het donker genoeg is.\n",
    "\n",
    "plt.style.use('dark_background')\n",
    "\n",
    "# Matplotlib gebruikt color maps. 'Wistia' is eentje die mooie\n",
    "# sterrenkleurtjes tekent, maar als je los wilt gaan, kijk dan hier:\n",
    "# https://matplotlib.org/examples/color/colormaps_reference.html\n",
    "  \n",
    "plt.set_cmap('Wistia')\n",
    "\n",
    "# En nu tekenen we ons sterrenkaartje als \"scatter plot\",\n",
    "# en we hoeven in dit geval geen x- en y-as te zien.\n",
    "\n",
    "plt.axis('off')\n",
    "plt.axis([0, 1, 0, 1])\n",
    "plt.scatter(x, y, c=colors, s=area, alpha=.7)\n",
    "plt.show()\n"
   ]
  },
  {
   "cell_type": "code",
   "execution_count": 133,
   "metadata": {},
   "outputs": [
    {
     "data": {
      "image/png": "[encoded data removed]",
      "text/plain": [
       "<matplotlib.figure.Figure at 0x29b4d84fcf8>"
      ]
     },
     "metadata": {},
     "output_type": "display_data"
    }
   ],
   "source": [
    "import matplotlib.pyplot as plt\n",
    "\n",
    "plt.xlim([0, 20])\n",
    "plt.ylim([0, 20])\n",
    "\n",
    "plt.text(1, 5, 'J.W.G.', fontsize=100)\n",
    "\n",
    "plt.show()"
   ]
  },
  {
   "cell_type": "code",
   "execution_count": null,
   "metadata": {
    "collapsed": true
   },
   "outputs": [],
   "source": []
  }
 ],
 "metadata": {
  "celltoolbar": "Edit Metadata",
  "kernelspec": {
   "display_name": "Python 3",
   "language": "python",
   "name": "python3"
  },
  "language_info": {
   "codemirror_mode": {
    "name": "ipython",
    "version": 3
   },
   "file_extension": ".py",
   "mimetype": "text/x-python",
   "name": "python",
   "nbconvert_exporter": "python",
   "pygments_lexer": "ipython3",
   "version": "3.6.1"
  }
 },
 "nbformat": 4,
 "nbformat_minor": 2
}
