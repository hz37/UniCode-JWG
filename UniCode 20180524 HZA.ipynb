{
 "cells": [
  {
   "cell_type": "markdown",
   "metadata": {},
   "source": [
    "\n",
    "\n",
    "<a rel=\"license\" href=\"http://creativecommons.org/licenses/by-nc/4.0/\"><img alt=\"Creative Commons License\" style=\"border-width:0\" src=\"https://i.creativecommons.org/l/by-nc/4.0/88x31.png\" /></a><br />This work is licensed under a <a rel=\"license\" href=\"http://creativecommons.org/licenses/by-nc/4.0/\">Creative Commons Attribution-NonCommercial 4.0 International License</a>."
   ]
  },
  {
   "cell_type": "markdown",
   "metadata": {},
   "source": [
    "__UniCode__\n",
    "\n",
    "Hens Zimmerman\n",
    "[henszimmerman@gmail.com](mailto:henszimmerman@gmail.com)\n",
    "\n",
    "In deze reeks artikelen leer je programmeren met de programmeertaal Python. Python is een gratis open source programmeertaal, die je kunt gebruiken op bijna alle soorten computers. Als je nog maar net begint met programmeren, en geen idee hebt waar je moet beginnen, begin dan met Anaconda Python 3.6. De download vind je hier: https://www.anaconda.com/. Natuurlijk gaat onze voorkeur uit naar astronomische berekeningen, maar soms maken we een uitstapje naar iets anders. Zo gaan we in deze aflevering bezig met datum en tijd.\n",
    "        \n",
    "Nog iets bijzonders: dit is een Jupyter notebook. Dat betekent dat je niet alles hoeft over te typen én dat je kunt experimenteren met de Python code. Super handig dus. Als je meer over Jupyter wilt weten kun je [hier](https://www.datacamp.com/community/tutorials/tutorial-jupyter-notebook) kijken.\n",
    "\n"
   ]
  },
  {
   "cell_type": "code",
   "execution_count": 9,
   "metadata": {
    "collapsed": true
   },
   "outputs": [],
   "source": [
    "# Python heeft een module datetime, die we goed kunnen gebruiken voor datum-tijd-berekeningen.\n",
    "\n",
    "import datetime \n",
    "\n",
    "\n"
   ]
  },
  {
   "cell_type": "code",
   "execution_count": null,
   "metadata": {
    "collapsed": true
   },
   "outputs": [],
   "source": []
  }
 ],
 "metadata": {
  "celltoolbar": "Edit Metadata",
  "kernelspec": {
   "display_name": "Python 3",
   "language": "python",
   "name": "python3"
  },
  "language_info": {
   "codemirror_mode": {
    "name": "ipython",
    "version": 3
   },
   "file_extension": ".py",
   "mimetype": "text/x-python",
   "name": "python",
   "nbconvert_exporter": "python",
   "pygments_lexer": "ipython3",
   "version": "3.6.1"
  }
 },
 "nbformat": 4,
 "nbformat_minor": 2
}
